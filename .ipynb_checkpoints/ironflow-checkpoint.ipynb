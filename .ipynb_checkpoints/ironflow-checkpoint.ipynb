{
 "cells": [
  {
   "cell_type": "markdown",
   "id": "f99c0a97-43fa-453d-a051-487610fcd834",
   "metadata": {
    "pycharm": {
     "name": "#%% md\n"
    }
   },
   "source": [
    "# Run ironflow"
   ]
  },
  {
   "cell_type": "code",
   "execution_count": 1,
   "id": "36c6dfa3-d530-457a-9f6e-769cc8b56c83",
   "metadata": {
    "pycharm": {
     "name": "#%%\n"
    },
    "trusted": true
   },
   "outputs": [],
   "source": [
    "from ironflow import GUI, NodeWidgets, NodeWidget, ButtonNodeWidget, CanvasLayout\n",
    "import numpy as np\n",
    "\n",
    "from pyiron import Project"
   ]
  },
  {
   "cell_type": "code",
   "execution_count": 3,
   "id": "9fd9f5af-b0a9-4eaf-ab4d-d6f21d57a12b",
   "metadata": {
    "pycharm": {
     "name": "#%%\n"
    },
    "trusted": true
   },
   "outputs": [],
   "source": [
    "gui = GUI()"
   ]
  },
  {
   "cell_type": "code",
   "execution_count": 4,
   "id": "844303cc-4de0-4113-8fb1-18c0b09883b2",
   "metadata": {
    "pycharm": {
     "name": "#%%\n"
    },
    "trusted": true
   },
   "outputs": [
    {
     "data": {
      "application/vnd.jupyter.widget-view+json": {
       "model_id": "e60472e7543b41ee8d5bf6ba0b5b4c5b",
       "version_major": 2,
       "version_minor": 0
      },
      "text/plain": [
       "VBox(children=(HBox(children=(Dropdown(layout=Layout(width='130px'), options=('special_nodes', 'basic_operator…"
      ]
     },
     "metadata": {},
     "output_type": "display_data"
    }
   ],
   "source": [
    "gui.draw()"
   ]
  }
 ],
 "metadata": {
  "kernelspec": {
   "display_name": "Python 3 (ipykernel)",
   "language": "python",
   "name": "python3"
  },
  "language_info": {
   "codemirror_mode": {
    "name": "ipython",
    "version": 3
   },
   "file_extension": ".py",
   "mimetype": "text/x-python",
   "name": "python",
   "nbconvert_exporter": "python",
   "pygments_lexer": "ipython3",
   "version": "3.10.4"
  }
 },
 "nbformat": 4,
 "nbformat_minor": 5
}
