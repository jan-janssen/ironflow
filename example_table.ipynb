{
 "cells": [
  {
   "cell_type": "markdown",
   "id": "18e99e8d-4818-440e-9b47-1f0d80e18214",
   "metadata": {},
   "source": [
    "We can import the gui and instantiate a new session. If there is a saved session with the same name, it will be automatically loaded. To see the gui, use the `.draw()` method."
   ]
  },
  {
   "cell_type": "code",
   "execution_count": 1,
   "id": "a0a60e2d",
   "metadata": {},
   "outputs": [],
   "source": [
    "%matplotlib inline\n",
    "from ironflow import GUI"
   ]
  },
  {
   "cell_type": "code",
   "execution_count": 2,
   "id": "e8da0476-4a99-4da3-8fe3-e12c646893e8",
   "metadata": {},
   "outputs": [
    {
     "name": "stderr",
     "output_type": "stream",
     "text": [
      "/u/system/SLES12/soft/pyiron/dev/anaconda3/lib/python3.8/site-packages/pkg_resources/__init__.py:123: PkgResourcesDeprecationWarning: NOT-A-GIT-REPOSITORY is an invalid version and will not be supported in a future release\n",
      "  warnings.warn(\n"
     ]
    },
    {
     "data": {
      "application/vnd.jupyter.widget-view+json": {
       "model_id": "9bbb5fd425af4dcd97858139a838dde6",
       "version_major": 2,
       "version_minor": 0
      },
      "text/plain": []
     },
     "metadata": {},
     "output_type": "display_data"
    },
    {
     "name": "stdout",
     "output_type": "stream",
     "text": [
      "Loaded session data for example\n"
     ]
    }
   ],
   "source": [
    "gui = GUI('example')"
   ]
  },
  {
   "cell_type": "code",
   "execution_count": 3,
   "id": "08ae0940-638e-4dde-a226-b15ea0a28230",
   "metadata": {},
   "outputs": [
    {
     "data": {
      "application/vnd.jupyter.widget-view+json": {
       "model_id": "2dcd827c425a4b308129475eaa02289a",
       "version_major": 2,
       "version_minor": 0
      },
      "text/plain": [
       "VBox(children=(HBox(children=(Dropdown(layout=Layout(width='80px'), options=('data', 'exec'), value='data'), B…"
      ]
     },
     "metadata": {},
     "output_type": "display_data"
    }
   ],
   "source": [
    "gui.draw()"
   ]
  },
  {
   "cell_type": "markdown",
   "id": "c1e40729-7e9d-42a4-be91-de1e311241fb",
   "metadata": {},
   "source": [
    "We can also extend ironflow with new nodes on-the-fly. Most of the tools you should need are stored under `ironflow.custom_nodes`. Once we register a new node from a notebook, it immediately shows up under the `__main__` tab in the node selector."
   ]
  },
  {
   "cell_type": "code",
   "execution_count": 83,
   "id": "a9336fda-a194-4b59-a912-6019e000d579",
   "metadata": {},
   "outputs": [],
   "source": [
    "from ironflow.custom_nodes import Node, NodeInputBP, NodeOutputBP, dtypes, input_widgets\n",
    "import numpy as np\n",
    "import matplotlib.pylab as plt\n",
    "from pyiron_atomistics import Project\n",
    "\n",
    "\n",
    "class My_Node(Node):\n",
    "    title = \"MyUserNode\"\n",
    "    init_inputs = [\n",
    "        NodeInputBP(dtype=dtypes.Integer(default=1), label=\"foo\")\n",
    "    ]\n",
    "    init_outputs = [\n",
    "       NodeOutputBP(label=\"bar\")\n",
    "    ]\n",
    "    color = 'cyan'\n",
    "\n",
    "    def update_event(self, inp=-1):\n",
    "        self.set_output_val(0, self.input(0) + 42)\n",
    "\n",
    "        \n",
    "class JobTable_Node(Node):\n",
    "    title = \"JobTable\"\n",
    "    init_inputs = [\n",
    "        NodeInputBP(dtype=dtypes.Data(default=1), label=\"Project\")\n",
    "    ]\n",
    "    init_outputs = [\n",
    "       NodeOutputBP(label=\"Table\")\n",
    "    ]\n",
    "    color = 'cyan'\n",
    "\n",
    "    def update_event(self, inp=-1):\n",
    "        self.set_output_val(0, self.input(0).job_table(all_columns=False))        \n",
    "        \n",
    "        \n",
    "class PyironTable_Node(Node):\n",
    "    title = \"PyironTable\"\n",
    "    n_cols = 2   # TODO: allow user to change number of cols \n",
    "    \n",
    "    init_inputs = [\n",
    "        NodeInputBP(type_=\"exec\", label=\"run\"),\n",
    "        NodeInputBP(type_=\"exec\", label=\"remove\"),\n",
    "        NodeInputBP(dtype=dtypes.Data(size=\"m\"), label=\"project\"),\n",
    "        NodeInputBP(dtype=dtypes.Char(default=\"table\"), label=\"name\")          \n",
    "    ]\n",
    "    for n in np.arange(n_cols):\n",
    "        init_inputs.append(\n",
    "            NodeInputBP(dtype=dtypes.Choice(default=\"get_job_name\", items=[\"get_job_name\"]), \n",
    "                        label=f\"Col_{n+1}\"\n",
    "            )\n",
    "        )\n",
    "    init_outputs = [\n",
    "        NodeOutputBP(label=\"Table\")\n",
    "    ]\n",
    "    \n",
    "    for n in np.arange(n_cols):\n",
    "        init_outputs.append(NodeOutputBP(label=f\"Col_{n+1}\"))\n",
    "        \n",
    "    color = 'cyan'\n",
    "    \n",
    "    \n",
    "    @property\n",
    "    def _project(self):\n",
    "        return self.input(2)\n",
    "\n",
    "    @property\n",
    "    def _name(self):\n",
    "        return self.input(3)    \n",
    "    \n",
    "    def _run(self):\n",
    "        self.table = self.input(2).create.table(self._name)\n",
    "        self._job = self.table\n",
    "        for n in np.arange(self.n_cols):\n",
    "            getattr(self.table.add, self.inputs[n + 4].val)\n",
    "\n",
    "        self.table.run()   \n",
    "\n",
    "    def _remove(self):\n",
    "        try:\n",
    "            name = self._job.name  # Remove based on the run job, not the input name which might have changed...\n",
    "            self._project.remove_job(name)\n",
    "            self.set_output_val(0, None)\n",
    "        except AttributeError:\n",
    "            pass    \n",
    "    \n",
    "    def _update_column_choices(self):\n",
    "        self.table = self.input(2).create.table()\n",
    "        for n in np.arange(self.n_cols):\n",
    "            col_input = self.inputs[n + 4]\n",
    "            last_col = col_input.val\n",
    "            available_cols = dir (self.table.add)\n",
    "\n",
    "            if last_col not in available_cols:\n",
    "                col_input.val = available_cols[0]\n",
    "            col_input.dtype.items = available_cols\n",
    "\n",
    "    def update_event(self, inp=-1):\n",
    "        if inp == 0:\n",
    "            self._run()\n",
    "            self.exec_output(0)\n",
    "        elif inp == 1:\n",
    "            self._remove()\n",
    "        elif inp > 1:\n",
    "            self._update_column_choices()              \n",
    "        \n",
    "        df = self.table.get_dataframe()\n",
    "        self.set_output_val(0, df)\n",
    "        if len(df) > 0:\n",
    "            for n in np.arange(self.n_cols):\n",
    "                self.set_output_val(n+1, df.iloc[:, n+1])\n",
    "\n",
    "                \n",
    "class ProjectSelector_Node(Node):\n",
    "    '''\n",
    "    Filter and select projects related to a Master Job \n",
    "    '''\n",
    "    title = \"ProjectSelector\"\n",
    "    color = \"#5d95de\"\n",
    "    \n",
    "    init_inputs = [\n",
    "        NodeInputBP(type_=\"exec\", label=\"filter\"),\n",
    "        NodeInputBP(dtype=dtypes.Char(default=\"/cmmc/u\"), label=\"RootPath\"),  \n",
    "        NodeInputBP(dtype=dtypes.Integer(default=0), label=\"Index\") \n",
    "    ]\n",
    "    \n",
    "    init_outputs = [\n",
    "        NodeOutputBP(label=\"Project\"),\n",
    "        NodeOutputBP(label=\"SelectedJobTable\")\n",
    "    ]    \n",
    "    \n",
    "    project = None\n",
    "    \n",
    "    def _filter(self):\n",
    "        from pathlib import Path\n",
    "\n",
    "        root_path = self.inputs[1].val\n",
    "        pr = Project(root_path)\n",
    "        df = pr.job_table(all_columns=True)\n",
    "        print (np.unique(df.hamilton))\n",
    "        self.df_murn = df[df.hamilton == 'Murnaghan']\n",
    "        index = self.inputs[2].val\n",
    "        p = Path(self.df_murn.projectpath.values[index]) / self.df_murn.project.values[index] / f'{self.df_murn.job.values[index]}_hdf5'\n",
    "        self.project = Project(str(p))\n",
    "    \n",
    "    def update_event(self, inp=-1):\n",
    "        self._filter()\n",
    "        # if inp == 0:\n",
    "        #     self._filter()\n",
    "        #     self.exec_output(0)\n",
    "\n",
    "        if self.project is not None:\n",
    "            self.set_output_val(0, self.project)\n",
    "            self.set_output_val(1, self.df_murn)\n",
    "            \n",
    "                    \n",
    "class Plot2d_Node(Node):\n",
    "    \"\"\"\n",
    "    A 2D matplotlib plot.\n",
    "\n",
    "    Inputs:\n",
    "        x pandas series: Data for the x-axis.\n",
    "        y pandas series: Data for the y-axis.\n",
    "\n",
    "    Outputs:\n",
    "        fig (matplotlib.figure.Figure): The resulting figure after a `matplotlib.pyplot.plot` call on x and y.\n",
    "    \"\"\"\n",
    "\n",
    "    title = \"Plot2d\"\n",
    "    version = \"v0.1\"\n",
    "    init_inputs = [\n",
    "        NodeInputBP(dtype=dtypes.Data(size=\"m\"), label=\"x\"),\n",
    "        NodeInputBP(dtype=dtypes.Data(size=\"m\"), label=\"y\"),\n",
    "    ]\n",
    "    init_outputs = [\n",
    "        NodeOutputBP(type_=\"data\", label=\"fig\"),\n",
    "    ]\n",
    "    color = \"#5d95de\"\n",
    "\n",
    "    def update_event(self, inp=-1):\n",
    "        super().update_event()\n",
    "        plt.ioff()\n",
    "        fig = plt.figure()\n",
    "        plt.clf()\n",
    "        x = self.input(0)\n",
    "        y = self.input(1)\n",
    "        plt.plot(x.values, y.values)\n",
    "        plt.xlabel(x.name)\n",
    "        plt.ylabel(y.name)\n",
    "        self.set_output_val(0, fig)\n",
    "        plt.ion()        "
   ]
  },
  {
   "cell_type": "markdown",
   "id": "f62462ef-a1ea-4e43-8c9f-a78c1b91a75e",
   "metadata": {},
   "source": [
    "If we save a session with a custom node, the same node needs to registered again *before* we load that session! To instantiate and load such a saved session all at once, extra node packages can be included using the optional `extra_node_packages` argument. This takes a `list` of node packages, which should either be a list of nodes that are children of `Node` (as in the example below) -- these appear under `__main__` in the gui, or a python module or path to a .py file. When registering nodes from a module or file, only those that inherit from `Node` *and* have a class name ending in `_Node` will be registered (this allows you to have your own node class templates and avoid loading the template itself by simply using regular python CamelCase naming conventions and avoiding ending in `_Node`). "
   ]
  },
  {
   "cell_type": "code",
   "execution_count": 108,
   "id": "7f753105-1669-4163-a338-6b7887b820b2",
   "metadata": {},
   "outputs": [
    {
     "name": "stdout",
     "output_type": "stream",
     "text": [
      "Loaded session data for example_with_custom_node\n"
     ]
    }
   ],
   "source": [
    "gui2 = GUI(\"example_with_custom_node\", extra_nodes_packages=[[My_Node, JobTable_Node, PyironTable_Node, Plot2d_Node, ProjectSelector_Node]])"
   ]
  },
  {
   "cell_type": "code",
   "execution_count": 109,
   "id": "61bd0c78-a148-483a-b232-f1e51e2ef2d7",
   "metadata": {},
   "outputs": [
    {
     "data": {
      "application/vnd.jupyter.widget-view+json": {
       "model_id": "9a2e6d177f4944dfa53885942fc7d79f",
       "version_major": 2,
       "version_minor": 0
      },
      "text/plain": [
       "VBox(children=(HBox(children=(Dropdown(layout=Layout(width='80px'), options=('data', 'exec'), value='data'), B…"
      ]
     },
     "metadata": {},
     "output_type": "display_data"
    }
   ],
   "source": [
    "gui2.draw()"
   ]
  },
  {
   "cell_type": "markdown",
   "id": "e194ae29-1c44-4f6b-a95d-305f48383c80",
   "metadata": {},
   "source": [
    "Note: When registering nodes from a module or file, they appear in the tab based on the end of the module/file path (excluding the .py convention). This is intentional since nodes from multiple sources may be conceptually linked, so they get grouped with every other node that has the same location terminus, but it's possible it could lead to naming conflicts. You're already able to override this with the underlying `GUI.register_nodes` method, which allows you to specify your own location using the optional `node_group` argument. In a future update we plan to provide the same capability when registering nodes at initialization."
   ]
  },
  {
   "cell_type": "code",
   "execution_count": 110,
   "id": "ac5786f5-d9b5-4796-b769-a40536e509c8",
   "metadata": {},
   "outputs": [
    {
     "data": {
      "text/plain": [
       "<__main__.PyironTable_Node at 0x148c27f210d0>"
      ]
     },
     "execution_count": 110,
     "metadata": {},
     "output_type": "execute_result"
    }
   ],
   "source": [
    "pt = gui2.script.flow.nodes[2]\n",
    "pt"
   ]
  },
  {
   "cell_type": "code",
   "execution_count": null,
   "id": "cc3837c5-2118-486e-8bb9-c7583fed9345",
   "metadata": {},
   "outputs": [],
   "source": []
  }
 ],
 "metadata": {
  "kernelspec": {
   "display_name": "Python 3 (ipykernel)",
   "language": "python",
   "name": "python3"
  },
  "language_info": {
   "codemirror_mode": {
    "name": "ipython",
    "version": 3
   },
   "file_extension": ".py",
   "mimetype": "text/x-python",
   "name": "python",
   "nbconvert_exporter": "python",
   "pygments_lexer": "ipython3",
   "version": "3.8.13"
  }
 },
 "nbformat": 4,
 "nbformat_minor": 5
}
