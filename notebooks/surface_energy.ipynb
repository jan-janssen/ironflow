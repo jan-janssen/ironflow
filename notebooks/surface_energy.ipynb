{
 "cells": [
  {
   "cell_type": "markdown",
   "id": "fa19547f-83b4-43fa-8170-04a65d362d0e",
   "metadata": {},
   "source": [
    "This is the second tutorial on interactive workflows; if you haven't gone through the bulk modulus example, start there."
   ]
  },
  {
   "cell_type": "code",
   "execution_count": null,
   "id": "0baf925b-224c-415d-9d5d-6613d68af0f5",
   "metadata": {},
   "outputs": [],
   "source": [
    "from ironflow import GUI"
   ]
  },
  {
   "cell_type": "markdown",
   "id": "4cda3c84-8a13-4a57-8ff1-5275cdc8870b",
   "metadata": {},
   "source": [
    "# Steps\n",
    "\n",
    "This example is very similar to the example for bulk modulus:\n",
    "\n",
    "1) Start by placing a `MaterialProperty` node from the `atomistics_nodes` menu; this time we'll select `SurfaceEnergy` as the property.\n",
    "2) Switch the node placement menu to `recommended`, and follow the ontological guidance to place the remaining nodes.\n",
    "    - Make sure to connect the inputs of your downstream nodes to the suggested outputs of the upstream nodes as you, this way all the necessary downstream ontological requirements will get passed upstream to give you the most specific node recommendations possible.\n",
    "    - There are three things to note when choosing the node to generate the `bulk_energy` and `surface_energy` input for the `SurfaceEnergy` node: \n",
    "        - First, you have a variety of choices for what type of calculation to use -- for this example use `CalcMinimize`\n",
    "        - Second, you will need to place _two_ instances of this node -- one for each energy you want to generate. Once their energy output is connected to an energy input on `SurfaceEnergy`, the additional requirements will be passed upstream when placing further nodes.\n",
    "        - Finally, because you have two instances of `CalcMinimize`, we'll need to update the `name` used by at least one of them so they don't step on each others' toes. Use whatever names you like, as long as they're different.\n",
    "3) Before running any jobs, you can play around with the ontological recommendations; e.g. if you connect both of the energy inputs for `SurfaceEnergy` to the `energy_pot` output of the same `CalcMinimize`, you will see all the upstream ontologically-typed structure ports turn red since the transitive requirements from both energy input ports cannot be satisfied at the same time!\n",
    "4) After running the calculation, `remove` both calculations, and adjust the thickness of the slab (`size_c`) or type of surface and recalculate\n",
    "    - Note: some of the surfaces require particular `size` values -- if the surface doesn't generate automatically you can check the log tab to see what the problem was and fix it by adjusting your input values."
   ]
  },
  {
   "cell_type": "code",
   "execution_count": null,
   "id": "90415f81-3f7a-484e-84c6-d061882e7523",
   "metadata": {},
   "outputs": [],
   "source": [
    "gui = GUI('live_surface_energy')"
   ]
  },
  {
   "cell_type": "code",
   "execution_count": null,
   "id": "e5ddc2f0-ea11-443b-a674-585ad0e4573a",
   "metadata": {},
   "outputs": [],
   "source": [
    "gui.draw()"
   ]
  },
  {
   "cell_type": "markdown",
   "id": "19437580-1a55-4226-9b25-54f476a0b85a",
   "metadata": {},
   "source": [
    "As before, you can also load a pre-constructed graph"
   ]
  },
  {
   "cell_type": "code",
   "execution_count": null,
   "id": "182d27d6-5c29-4b27-948a-b30125950cd6",
   "metadata": {},
   "outputs": [],
   "source": [
    "premade_gui = GUI('premade_surface_energy')"
   ]
  },
  {
   "cell_type": "code",
   "execution_count": null,
   "id": "77a3c464-6917-4a64-8a6c-ed23f9a996f1",
   "metadata": {},
   "outputs": [],
   "source": [
    "premade_gui.draw()"
   ]
  },
  {
   "cell_type": "code",
   "execution_count": null,
   "id": "eb203ecd-5a83-4afa-a842-cd6c62c6c0f4",
   "metadata": {},
   "outputs": [],
   "source": []
  }
 ],
 "metadata": {
  "kernelspec": {
   "display_name": "Python 3 (ipykernel)",
   "language": "python",
   "name": "python3"
  },
  "language_info": {
   "codemirror_mode": {
    "name": "ipython",
    "version": 3
   },
   "file_extension": ".py",
   "mimetype": "text/x-python",
   "name": "python",
   "nbconvert_exporter": "python",
   "pygments_lexer": "ipython3",
   "version": "3.11.0"
  }
 },
 "nbformat": 4,
 "nbformat_minor": 5
}
