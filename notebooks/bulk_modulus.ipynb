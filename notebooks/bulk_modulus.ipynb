{
 "cells": [
  {
   "cell_type": "markdown",
   "id": "d617da0f-740a-4635-8299-99691418ba9b",
   "metadata": {},
   "source": [
    "Here, we will demonstrate how we can use ontological typing for guided workflow design.\n",
    "\n",
    "This is an interactive example, with a series of steps to follow so that you can see how the guidance process works. At the end, there is a serialized workflow you can load for comparison"
   ]
  },
  {
   "cell_type": "code",
   "execution_count": null,
   "id": "970367bb-6922-48da-b193-91b8aac6afcf",
   "metadata": {},
   "outputs": [],
   "source": [
    "from ironflow import GUI"
   ]
  },
  {
   "cell_type": "markdown",
   "id": "485e37a9-8f8b-4451-b4ab-da2c6333bd47",
   "metadata": {},
   "source": [
    "# Steps\n",
    "\n",
    "1. Start up the GUI\n",
    "2. Select `MaterialProperty` from the `pyiron_atomistics` node list and add it to the graph.\n",
    "3. Click on the new node to open its node controller, and select `Bulk_modulus` from the `property` drop-down menu.\n",
    "   - Observe: This should change the `property` port-status to green.\n",
    "4. Click on the node-selector dropdown menu and change it from `atomistics_nodes` to `recommended`\n",
    "5. Click on the red `source` port on the `MaterialProperty` node\n",
    "   - Obeserve: The list of recommended ports is now populated by a node that has appropriate output for this port!\n",
    "6. Double-click to place the recommended node on the graph.\n",
    "7. Click on the `MaterialProperty` node `source` input port again.\n",
    "   - Observe: The corresponding port on `CalcMurnaghan` that has ontologically-valid output is highlighted white!\n",
    "8. Connect `source` to the highlighted `eq_bulk_modulus` port.\n",
    "   - Observe: The port status is still red. This connection is permissible by the ports' respective data types, and recommended by their respective ontological types, but our `CalcMurnaghan` node still has not been run, so the actual _values_ of these ports are still bad, hence the red color-coding.\n",
    "9. Starting with the `engine` input for `CalcMurnaghan`, follow the same process again:\n",
    "   1. Click the port to populate the recommended node list\n",
    "   2. Place a recommended node\n",
    "   3. Click the port to highlight where on the newly place node you should connect it to.\n",
    "   - Repeat this for engine &rarr; Lammps&rarr;engine; structure&rarr;BulkStructure&rarr;structure\n",
    "   - Observe: Without knowing a-priori which nodes we need to use, we simply follow recommendations to populate our graph\n",
    "10. We're still missing one piece of input: a `Project`. This isn't ontologically typed (yet!) so just go back to the `atomistics_nodes` menu and add a `Project` node and connect it to the two open `project` input values.\n",
    "11. Run the `CalcMurnaghan` job\n",
    "   - Observe: If you use `SHOW` to investigate the `CalcMurnaghan` and `MaterialProperty` node outputs, you'll see that the bulk modulus gets converted from the Murnaghan units of GPa to the ontology's units of MPa.\n",
    "12. Select `MaterialProperty` again, and choose `B_prime` from the `property` dropdown.\n",
    "   - Observe: The `eq_bulk_modulus` output of `CalcMurnaghan` still has a green (valid) output port, but the `source` input port of `MaterialProperty` is now red (invalid) -- this is because the provided ontological type no longer matches the requested property.\n",
    "13. Click on the `source` input port again; disconnect it from `eq_bulk_modulus` and reconnect it to the recommended port."
   ]
  },
  {
   "cell_type": "code",
   "execution_count": null,
   "id": "0d1ce2a3-acd0-4729-ada5-339bf0b14215",
   "metadata": {},
   "outputs": [],
   "source": [
    "gui = GUI('live_bulk_modulus')"
   ]
  },
  {
   "cell_type": "code",
   "execution_count": null,
   "id": "4ec38f26-e2ee-45fb-a65b-65e239b587da",
   "metadata": {},
   "outputs": [],
   "source": [
    "gui.draw()"
   ]
  },
  {
   "cell_type": "markdown",
   "id": "19f12818-c081-494c-af17-7dd5cbdbbd1b",
   "metadata": {},
   "source": [
    "This process was pretty simple, since there was only one node choice for each step. \n",
    "\n",
    "To see the benefit of the ontology, select the `Lammps` node and execute the cell below:"
   ]
  },
  {
   "cell_type": "code",
   "execution_count": null,
   "id": "4b7ab514-1411-4df4-9094-e41ebe04ea47",
   "metadata": {},
   "outputs": [],
   "source": [
    "gui.selected_node.inputs.ports.structure.get_downstream_conditions()"
   ]
  },
  {
   "cell_type": "markdown",
   "id": "addf541e-8b9e-4d7f-b0ba-93190cc93677",
   "metadata": {},
   "source": [
    "You should see that the structure input has inherited the condition of a bulk structure from the downstream application! Of course Lammps can take almost any type of atomic structure; the requirement that the input here be bulk-like was passed down through the graph from the Murnaghan node. So while this particular example is simple, I hope this demonstrates the power of ontologically guided workflow design."
   ]
  },
  {
   "cell_type": "code",
   "execution_count": null,
   "id": "a9c326a8-2c90-49d5-986f-214a6eb874af",
   "metadata": {},
   "outputs": [],
   "source": [
    "pre_made = GUI('premade_bulk_modulus')"
   ]
  },
  {
   "cell_type": "code",
   "execution_count": null,
   "id": "08484123-4bdd-446e-9a9a-9ecaff285b6a",
   "metadata": {},
   "outputs": [],
   "source": [
    "pre_made.draw()"
   ]
  },
  {
   "cell_type": "code",
   "execution_count": null,
   "id": "d9a8d5f0-d5b8-4a73-ae7a-e362bf7d69f8",
   "metadata": {},
   "outputs": [],
   "source": []
  }
 ],
 "metadata": {
  "kernelspec": {
   "display_name": "Python 3",
   "language": "python",
   "name": "python3"
  },
  "language_info": {
   "codemirror_mode": {
    "name": "ipython",
    "version": 3
   },
   "file_extension": ".py",
   "mimetype": "text/x-python",
   "name": "python",
   "nbconvert_exporter": "python",
   "pygments_lexer": "ipython3",
   "version": "3.8.8"
  }
 },
 "nbformat": 4,
 "nbformat_minor": 5
}
