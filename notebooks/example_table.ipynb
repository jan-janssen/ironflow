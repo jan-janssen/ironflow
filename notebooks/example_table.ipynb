{
 "cells": [
  {
   "cell_type": "markdown",
   "id": "18e99e8d-4818-440e-9b47-1f0d80e18214",
   "metadata": {},
   "source": [
    "We can import the gui and instantiate a new session. If there is a saved session with the same name, it will be automatically loaded. To see the gui, use the `.draw()` method."
   ]
  },
  {
   "cell_type": "code",
   "execution_count": 1,
   "id": "a0a60e2d",
   "metadata": {},
   "outputs": [
    {
     "data": {
      "application/vnd.jupyter.widget-view+json": {
       "model_id": "6a61e55a92ba4a729801f6df83935083",
       "version_major": 2,
       "version_minor": 0
      },
      "text/plain": []
     },
     "metadata": {},
     "output_type": "display_data"
    }
   ],
   "source": [
    "%matplotlib inline\n",
    "from ironflow import GUI"
   ]
  },
  {
   "cell_type": "code",
   "execution_count": 2,
   "id": "e8da0476-4a99-4da3-8fe3-e12c646893e8",
   "metadata": {},
   "outputs": [
    {
     "name": "stderr",
     "output_type": "stream",
     "text": [
      "2022-11-25 15:38:58,670 - pyiron_log - WARNING - The job table is being loaded instead of running. To re-run use the argument 'delete_existing_job=True in create_job'\n"
     ]
    }
   ],
   "source": [
    "gui = GUI('example')"
   ]
  },
  {
   "cell_type": "code",
   "execution_count": 3,
   "id": "08ae0940-638e-4dde-a226-b15ea0a28230",
   "metadata": {},
   "outputs": [
    {
     "data": {
      "application/vnd.jupyter.widget-view+json": {
       "model_id": "8ddb753b5a9f4760ae7bc0558f48a498",
       "version_major": 2,
       "version_minor": 0
      },
      "text/plain": [
       "Tab(children=(VBox(children=(HBox(children=(Dropdown(layout=Layout(width='80px'), options=('data', 'exec'), va…"
      ]
     },
     "metadata": {},
     "output_type": "display_data"
    }
   ],
   "source": [
    "gui.draw()"
   ]
  },
  {
   "cell_type": "markdown",
   "id": "c1e40729-7e9d-42a4-be91-de1e311241fb",
   "metadata": {},
   "source": [
    "We can also extend ironflow with new nodes on-the-fly. Most of the tools you should need are stored under `ironflow.custom_nodes`. Once we register a new node from a notebook, it immediately shows up under the `__main__` tab in the node selector."
   ]
  },
  {
   "cell_type": "code",
   "execution_count": 4,
   "id": "a9336fda-a194-4b59-a912-6019e000d579",
   "metadata": {},
   "outputs": [],
   "source": [
    "from ironflow.custom_nodes import Node, NodeInputBP, NodeOutputBP, dtypes, input_widgets\n",
    "import numpy as np\n",
    "import matplotlib.pylab as plt\n",
    "from pyiron_atomistics import Project\n",
    "\n",
    "\n",
    "class My_Node(Node):\n",
    "    title = \"MyUserNode\"\n",
    "    init_inputs = [\n",
    "        NodeInputBP(dtype=dtypes.Integer(default=1), label=\"foo\")\n",
    "    ]\n",
    "    init_outputs = [\n",
    "       NodeOutputBP(label=\"bar\")\n",
    "    ]\n",
    "    color = 'cyan'\n",
    "\n",
    "    def update_event(self, inp=-1):\n",
    "        self.set_output_val(0, self.input(0) + 42)\n",
    "\n",
    "        \n",
    "class JobTable_Node(Node):\n",
    "    title = \"JobTable\"\n",
    "    init_inputs = [\n",
    "        NodeInputBP(dtype=dtypes.Data(valid_classes=Project), label=\"project\")\n",
    "    ]\n",
    "    init_outputs = [\n",
    "       NodeOutputBP(label=\"Table\")\n",
    "    ]\n",
    "    color = 'cyan'\n",
    "\n",
    "    def update_event(self, inp=-1):\n",
    "        if self.inputs.ports.project.valid_val:\n",
    "            self.set_output_val(\n",
    "                0, \n",
    "                self.inputs.values.project.job_table(all_columns=False)\n",
    "            )        \n",
    "        \n",
    "        \n",
    "class PyironTable_Node(Node):\n",
    "    title = \"PyironTable\"\n",
    "    n_cols = 2   # TODO: allow user to change number of cols \n",
    "    \n",
    "    init_inputs = [\n",
    "        NodeInputBP(type_=\"exec\", label=\"run\"),\n",
    "        NodeInputBP(type_=\"exec\", label=\"remove\"),\n",
    "        NodeInputBP(dtype=dtypes.Data(valid_classes=Project), label=\"project\"),\n",
    "        NodeInputBP(dtype=dtypes.String(default=\"table\"), label=\"name\")          \n",
    "    ]\n",
    "    for n in np.arange(n_cols):\n",
    "        init_inputs.append(\n",
    "            NodeInputBP(dtype=dtypes.Choice(default=\"get_job_name\", items=[\"get_job_name\"]), \n",
    "                        label=f\"Col_{n+1}\"\n",
    "            )\n",
    "        )\n",
    "    init_outputs = [\n",
    "        NodeOutputBP(label=\"Table\")\n",
    "    ]\n",
    "    \n",
    "    for n in np.arange(n_cols):\n",
    "        init_outputs.append(NodeOutputBP(label=f\"Col_{n+1}\"))\n",
    "        \n",
    "    color = 'cyan'  \n",
    "    \n",
    "    def _run(self):\n",
    "        self.table = self.inputs.values.project.create.table(self.inputs.values.name)\n",
    "        self._job = self.table\n",
    "        for n in np.arange(self.n_cols):\n",
    "            getattr(self.table.add, self.inputs[n + 4].val)\n",
    "\n",
    "        self.table.run()   \n",
    "\n",
    "    def _remove(self):\n",
    "        try:\n",
    "            name = self._job.name  # Remove based on the run job, not the input name which might have changed...\n",
    "            self._project.remove_job(name)\n",
    "            self.set_output_val(0, None)\n",
    "        except AttributeError:\n",
    "            pass    \n",
    "    \n",
    "    def _update_column_choices(self):\n",
    "        self.table = self.inputs.values.project.create.table()\n",
    "        for n in np.arange(self.n_cols):\n",
    "            col_input = self.inputs[n + 4]\n",
    "            last_col = col_input.val\n",
    "            available_cols = dir (self.table.add)\n",
    "\n",
    "            if last_col not in available_cols:\n",
    "                col_input.val = available_cols[0]\n",
    "            col_input.dtype.items = available_cols\n",
    "\n",
    "    def update_event(self, inp=-1):\n",
    "        if inp == 0 and self.all_input_is_valid:\n",
    "            self._run()\n",
    "            self.exec_output(0)\n",
    "        elif inp == 1:\n",
    "            self._remove()\n",
    "        elif inp > 1:\n",
    "            self._update_column_choices()              \n",
    "        \n",
    "        try:\n",
    "            df = self.table.get_dataframe()\n",
    "            self.set_output_val(0, df)\n",
    "            if len(df) > 0:\n",
    "                for n in np.arange(self.n_cols):\n",
    "                    self.set_output_val(n+1, df.iloc[:, n+1])\n",
    "        except AttributeError:\n",
    "            pass\n",
    "\n",
    "                \n",
    "class ProjectSelector_Node(Node):\n",
    "    '''\n",
    "    Filter and select projects related to a Master Job \n",
    "    '''\n",
    "    title = \"ProjectSelector\"\n",
    "    color = \"#5d95de\"\n",
    "    \n",
    "    init_inputs = [\n",
    "        NodeInputBP(type_=\"exec\", label=\"filter\"),\n",
    "        NodeInputBP(dtype=dtypes.Char(default=\"/cmmc/u\"), label=\"RootPath\"),  \n",
    "        NodeInputBP(dtype=dtypes.Integer(default=0), label=\"Index\") \n",
    "    ]\n",
    "    \n",
    "    init_outputs = [\n",
    "        NodeOutputBP(label=\"Project\"),\n",
    "        NodeOutputBP(label=\"SelectedJobTable\")\n",
    "    ]    \n",
    "    \n",
    "    project = None\n",
    "    \n",
    "    def _filter(self):\n",
    "        from pathlib import Path\n",
    "\n",
    "        root_path = self.inputs[1].val\n",
    "        pr = Project(root_path)\n",
    "        df = pr.job_table(all_columns=True)\n",
    "        print (np.unique(df.hamilton))\n",
    "        self.df_murn = df[df.hamilton == 'Murnaghan']\n",
    "        index = self.inputs[2].val\n",
    "        p = Path(self.df_murn.projectpath.values[index]) / self.df_murn.project.values[index] / f'{self.df_murn.job.values[index]}_hdf5'\n",
    "        self.project = Project(str(p))\n",
    "    \n",
    "    def update_event(self, inp=-1):\n",
    "        self._filter()\n",
    "        # if inp == 0:\n",
    "        #     self._filter()\n",
    "        #     self.exec_output(0)\n",
    "\n",
    "        if self.project is not None:\n",
    "            self.set_output_val(0, self.project)\n",
    "            self.set_output_val(1, self.df_murn)\n",
    "                  "
   ]
  },
  {
   "cell_type": "markdown",
   "id": "f62462ef-a1ea-4e43-8c9f-a78c1b91a75e",
   "metadata": {},
   "source": [
    "If we save a session with a custom node, the same node needs to registered again *before* we load that session! To instantiate and load such a saved session all at once, extra node packages can be included using the optional `extra_node_packages` argument. This takes a `list` of node packages, which should either be a list of nodes that are children of `Node` (as in the example below) -- these appear under `__main__` in the gui, or a python module or path to a .py file. When registering nodes from a module or file, only those that inherit from `Node` *and* have a class name ending in `_Node` will be registered (this allows you to have your own node class templates and avoid loading the template itself by simply using regular python CamelCase naming conventions and avoiding ending in `_Node`). "
   ]
  },
  {
   "cell_type": "code",
   "execution_count": 7,
   "id": "7f753105-1669-4163-a338-6b7887b820b2",
   "metadata": {},
   "outputs": [],
   "source": [
    "gui2 = GUI(\"example_table\", extra_nodes_packages=[[My_Node, JobTable_Node, PyironTable_Node, ProjectSelector_Node]])"
   ]
  },
  {
   "cell_type": "code",
   "execution_count": 8,
   "id": "61bd0c78-a148-483a-b232-f1e51e2ef2d7",
   "metadata": {},
   "outputs": [
    {
     "data": {
      "application/vnd.jupyter.widget-view+json": {
       "model_id": "48e895ef686f48cba40589eb1fa42e47",
       "version_major": 2,
       "version_minor": 0
      },
      "text/plain": [
       "Tab(children=(VBox(children=(HBox(children=(Dropdown(layout=Layout(width='80px'), options=('data', 'exec'), va…"
      ]
     },
     "metadata": {},
     "output_type": "display_data"
    }
   ],
   "source": [
    "gui2.draw()"
   ]
  },
  {
   "cell_type": "markdown",
   "id": "e194ae29-1c44-4f6b-a95d-305f48383c80",
   "metadata": {},
   "source": [
    "Note: When registering nodes from a module or file, they appear in the tab based on the end of the module/file path (excluding the .py convention). This is intentional since nodes from multiple sources may be conceptually linked, so they get grouped with every other node that has the same location terminus, but it's possible it could lead to naming conflicts. You're already able to override this with the underlying `GUI.register_nodes` method, which allows you to specify your own location using the optional `node_group` argument. In a future update we plan to provide the same capability when registering nodes at initialization."
   ]
  },
  {
   "cell_type": "code",
   "execution_count": 7,
   "id": "ac5786f5-d9b5-4796-b769-a40536e509c8",
   "metadata": {},
   "outputs": [
    {
     "data": {
      "text/plain": [
       "<__main__.PyironTable_Node at 0x7fb2574483d0>"
      ]
     },
     "execution_count": 7,
     "metadata": {},
     "output_type": "execute_result"
    }
   ],
   "source": [
    "pt = gui2.script.flow.nodes[2]\n",
    "pt"
   ]
  },
  {
   "cell_type": "code",
   "execution_count": null,
   "id": "cc3837c5-2118-486e-8bb9-c7583fed9345",
   "metadata": {},
   "outputs": [],
   "source": []
  }
 ],
 "metadata": {
  "kernelspec": {
   "display_name": "Python 3",
   "language": "python",
   "name": "python3"
  },
  "language_info": {
   "codemirror_mode": {
    "name": "ipython",
    "version": 3
   },
   "file_extension": ".py",
   "mimetype": "text/x-python",
   "name": "python",
   "nbconvert_exporter": "python",
   "pygments_lexer": "ipython3",
   "version": "3.8.8"
  }
 },
 "nbformat": 4,
 "nbformat_minor": 5
}
