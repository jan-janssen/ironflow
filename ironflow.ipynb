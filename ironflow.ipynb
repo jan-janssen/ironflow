{
 "metadata": {
  "kernelspec": {
   "display_name": "Python 3 (ipykernel)",
   "language": "python",
   "name": "python3"
  },
  "language_info": {
   "name": "python",
   "version": "3.10.4",
   "mimetype": "text/x-python",
   "codemirror_mode": {
    "name": "ipython",
    "version": 3
   },
   "pygments_lexer": "ipython3",
   "nbconvert_exporter": "python",
   "file_extension": ".py"
  }
 },
 "nbformat_minor": 5,
 "nbformat": 4,
 "cells": [
  {
   "cell_type": "markdown",
   "source": [
    "# Test ironflow"
   ],
   "metadata": {
    "pycharm": {
     "name": "#%% md\n"
    }
   },
   "id": "f99c0a97-43fa-453d-a051-487610fcd834"
  },
  {
   "cell_type": "code",
   "source": [
    "from ironflow import GUI, NodeWidgets, NodeWidget, ButtonNodeWidget, CanvasLayout\n",
    "import numpy as np"
   ],
   "metadata": {
    "trusted": true,
    "pycharm": {
     "name": "#%%\n"
    }
   },
   "execution_count": 1,
   "outputs": [],
   "id": "36c6dfa3-d530-457a-9f6e-769cc8b56c83"
  },
  {
   "cell_type": "code",
   "source": [
    "from pyiron import Project\n",
    "pr = Project('.')\n",
    "Al = pr.create.structure.bulk('Al')"
   ],
   "metadata": {
    "trusted": true,
    "pycharm": {
     "name": "#%%\n"
    }
   },
   "execution_count": 2,
   "outputs": [],
   "id": "d6a33222-2ae5-4a3e-b9b8-e72874243754"
  },
  {
   "cell_type": "code",
   "source": [
    "gui = GUI()"
   ],
   "metadata": {
    "trusted": true,
    "pycharm": {
     "name": "#%%\n"
    }
   },
   "execution_count": 3,
   "outputs": [],
   "id": "9fd9f5af-b0a9-4eaf-ab4d-d6f21d57a12b"
  },
  {
   "cell_type": "code",
   "source": [
    "gui.draw()"
   ],
   "metadata": {
    "trusted": true,
    "pycharm": {
     "name": "#%%\n"
    }
   },
   "execution_count": 4,
   "outputs": [
    {
     "output_type": "display_data",
     "data": {
      "text/plain": "VBox(children=(HBox(children=(Dropdown(layout=Layout(width='130px'), options=('special_nodes', 'basic_operator…",
      "application/vnd.jupyter.widget-view+json": {
       "version_major": 2,
       "version_minor": 0,
       "model_id": "e60472e7543b41ee8d5bf6ba0b5b4c5b"
      }
     },
     "metadata": {}
    }
   ],
   "id": "844303cc-4de0-4113-8fb1-18c0b09883b2"
  },
  {
   "cell_type": "code",
   "source": [],
   "metadata": {
    "pycharm": {
     "name": "#%%\n"
    }
   },
   "execution_count": null,
   "outputs": [],
   "id": "2518e7bc-e171-4dee-b09b-2c284a0e67f4"
  }
 ]
}