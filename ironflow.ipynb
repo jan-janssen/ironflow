{
 "cells": [
  {
   "cell_type": "markdown",
   "id": "f99c0a97-43fa-453d-a051-487610fcd834",
   "metadata": {
    "pycharm": {
     "name": "#%% md\n"
    }
   },
   "source": [
    "# Run ironflow"
   ]
  },
  {
   "cell_type": "code",
   "execution_count": 1,
   "id": "36c6dfa3-d530-457a-9f6e-769cc8b56c83",
   "metadata": {
    "pycharm": {
     "name": "#%%\n"
    }
   },
   "outputs": [],
   "source": [
    "from ryven.ironflow.Gui import GUI\n",
    "from pyiron_atomistics import Project"
   ]
  },
  {
   "cell_type": "code",
   "execution_count": 2,
   "id": "9fd9f5af-b0a9-4eaf-ab4d-d6f21d57a12b",
   "metadata": {
    "pycharm": {
     "name": "#%%\n"
    }
   },
   "outputs": [],
   "source": [
    "gui = GUI()"
   ]
  },
  {
   "cell_type": "code",
   "execution_count": 3,
   "id": "844303cc-4de0-4113-8fb1-18c0b09883b2",
   "metadata": {
    "pycharm": {
     "name": "#%%\n"
    }
   },
   "outputs": [
    {
     "data": {
      "application/vnd.jupyter.widget-view+json": {
       "model_id": "2d8f562ec71f4d8987d9d4785b68b89f",
       "version_major": 2,
       "version_minor": 0
      },
      "text/plain": [
       "VBox(children=(HBox(children=(Dropdown(layout=Layout(width='130px'), options=('special_nodes', 'basic_operator…"
      ]
     },
     "metadata": {},
     "output_type": "display_data"
    }
   ],
   "source": [
    "gui.draw()"
   ]
  },
  {
   "cell_type": "code",
   "execution_count": 4,
   "id": "f21be27e-4677-474b-8e10-11ded42cc02c",
   "metadata": {},
   "outputs": [],
   "source": [
    "pr = Project('../../pyiron/test')"
   ]
  },
  {
   "cell_type": "code",
   "execution_count": 5,
   "id": "ae18ca55-30c2-4344-aa8b-823882af7e73",
   "metadata": {},
   "outputs": [
    {
     "data": {
      "text/html": [
       "<div>\n",
       "<style scoped>\n",
       "    .dataframe tbody tr th:only-of-type {\n",
       "        vertical-align: middle;\n",
       "    }\n",
       "\n",
       "    .dataframe tbody tr th {\n",
       "        vertical-align: top;\n",
       "    }\n",
       "\n",
       "    .dataframe thead th {\n",
       "        text-align: right;\n",
       "    }\n",
       "</style>\n",
       "<table border=\"1\" class=\"dataframe\">\n",
       "  <thead>\n",
       "    <tr style=\"text-align: right;\">\n",
       "      <th></th>\n",
       "      <th>id</th>\n",
       "      <th>status</th>\n",
       "      <th>chemicalformula</th>\n",
       "      <th>job</th>\n",
       "      <th>subjob</th>\n",
       "      <th>projectpath</th>\n",
       "      <th>project</th>\n",
       "      <th>timestart</th>\n",
       "      <th>timestop</th>\n",
       "      <th>totalcputime</th>\n",
       "      <th>computer</th>\n",
       "      <th>hamilton</th>\n",
       "      <th>hamversion</th>\n",
       "      <th>parentid</th>\n",
       "      <th>masterid</th>\n",
       "    </tr>\n",
       "  </thead>\n",
       "  <tbody>\n",
       "    <tr>\n",
       "      <th>0</th>\n",
       "      <td>10</td>\n",
       "      <td>finished</td>\n",
       "      <td>Al4</td>\n",
       "      <td>job_s0p2222222222222222</td>\n",
       "      <td>/job_s0p2222222222222222</td>\n",
       "      <td>/home/neugebau/</td>\n",
       "      <td>pyiron/test/</td>\n",
       "      <td>2022-05-10 21:39:55.021059</td>\n",
       "      <td>2022-05-10 21:39:55.783042</td>\n",
       "      <td>0.0</td>\n",
       "      <td>pyiron@DESKTOP-L677PA7#1</td>\n",
       "      <td>Lammps</td>\n",
       "      <td>0.1</td>\n",
       "      <td>None</td>\n",
       "      <td>None</td>\n",
       "    </tr>\n",
       "    <tr>\n",
       "      <th>1</th>\n",
       "      <td>11</td>\n",
       "      <td>finished</td>\n",
       "      <td>Al4</td>\n",
       "      <td>job_s0p4444444444444444</td>\n",
       "      <td>/job_s0p4444444444444444</td>\n",
       "      <td>/home/neugebau/</td>\n",
       "      <td>pyiron/test/</td>\n",
       "      <td>2022-05-10 21:39:56.370144</td>\n",
       "      <td>2022-05-10 21:39:56.972171</td>\n",
       "      <td>0.0</td>\n",
       "      <td>pyiron@DESKTOP-L677PA7#1</td>\n",
       "      <td>Lammps</td>\n",
       "      <td>0.1</td>\n",
       "      <td>None</td>\n",
       "      <td>None</td>\n",
       "    </tr>\n",
       "    <tr>\n",
       "      <th>2</th>\n",
       "      <td>12</td>\n",
       "      <td>finished</td>\n",
       "      <td>Al4</td>\n",
       "      <td>job_s0p6666666666666666</td>\n",
       "      <td>/job_s0p6666666666666666</td>\n",
       "      <td>/home/neugebau/</td>\n",
       "      <td>pyiron/test/</td>\n",
       "      <td>2022-05-10 21:39:57.564563</td>\n",
       "      <td>2022-05-10 21:39:58.153286</td>\n",
       "      <td>0.0</td>\n",
       "      <td>pyiron@DESKTOP-L677PA7#1</td>\n",
       "      <td>Lammps</td>\n",
       "      <td>0.1</td>\n",
       "      <td>None</td>\n",
       "      <td>None</td>\n",
       "    </tr>\n",
       "    <tr>\n",
       "      <th>3</th>\n",
       "      <td>13</td>\n",
       "      <td>finished</td>\n",
       "      <td>Al4</td>\n",
       "      <td>job_s0p8888888888888888</td>\n",
       "      <td>/job_s0p8888888888888888</td>\n",
       "      <td>/home/neugebau/</td>\n",
       "      <td>pyiron/test/</td>\n",
       "      <td>2022-05-10 21:39:58.682627</td>\n",
       "      <td>2022-05-10 21:39:59.231047</td>\n",
       "      <td>0.0</td>\n",
       "      <td>pyiron@DESKTOP-L677PA7#1</td>\n",
       "      <td>Lammps</td>\n",
       "      <td>0.1</td>\n",
       "      <td>None</td>\n",
       "      <td>None</td>\n",
       "    </tr>\n",
       "    <tr>\n",
       "      <th>4</th>\n",
       "      <td>14</td>\n",
       "      <td>finished</td>\n",
       "      <td>Al4</td>\n",
       "      <td>job_s1p1111111111111112</td>\n",
       "      <td>/job_s1p1111111111111112</td>\n",
       "      <td>/home/neugebau/</td>\n",
       "      <td>pyiron/test/</td>\n",
       "      <td>2022-05-10 21:39:59.779011</td>\n",
       "      <td>2022-05-10 21:40:00.339470</td>\n",
       "      <td>0.0</td>\n",
       "      <td>pyiron@DESKTOP-L677PA7#1</td>\n",
       "      <td>Lammps</td>\n",
       "      <td>0.1</td>\n",
       "      <td>None</td>\n",
       "      <td>None</td>\n",
       "    </tr>\n",
       "    <tr>\n",
       "      <th>5</th>\n",
       "      <td>15</td>\n",
       "      <td>finished</td>\n",
       "      <td>Al4</td>\n",
       "      <td>job_s1p3333333333333333</td>\n",
       "      <td>/job_s1p3333333333333333</td>\n",
       "      <td>/home/neugebau/</td>\n",
       "      <td>pyiron/test/</td>\n",
       "      <td>2022-05-10 21:40:00.871687</td>\n",
       "      <td>2022-05-10 21:40:01.450636</td>\n",
       "      <td>0.0</td>\n",
       "      <td>pyiron@DESKTOP-L677PA7#1</td>\n",
       "      <td>Lammps</td>\n",
       "      <td>0.1</td>\n",
       "      <td>None</td>\n",
       "      <td>None</td>\n",
       "    </tr>\n",
       "    <tr>\n",
       "      <th>6</th>\n",
       "      <td>16</td>\n",
       "      <td>finished</td>\n",
       "      <td>Al4</td>\n",
       "      <td>job_s1p5555555555555554</td>\n",
       "      <td>/job_s1p5555555555555554</td>\n",
       "      <td>/home/neugebau/</td>\n",
       "      <td>pyiron/test/</td>\n",
       "      <td>2022-05-10 21:40:02.012762</td>\n",
       "      <td>2022-05-10 21:40:02.580739</td>\n",
       "      <td>0.0</td>\n",
       "      <td>pyiron@DESKTOP-L677PA7#1</td>\n",
       "      <td>Lammps</td>\n",
       "      <td>0.1</td>\n",
       "      <td>None</td>\n",
       "      <td>None</td>\n",
       "    </tr>\n",
       "    <tr>\n",
       "      <th>7</th>\n",
       "      <td>17</td>\n",
       "      <td>finished</td>\n",
       "      <td>Al4</td>\n",
       "      <td>job_s1p7777777777777777</td>\n",
       "      <td>/job_s1p7777777777777777</td>\n",
       "      <td>/home/neugebau/</td>\n",
       "      <td>pyiron/test/</td>\n",
       "      <td>2022-05-10 21:40:03.139951</td>\n",
       "      <td>2022-05-10 21:40:03.731022</td>\n",
       "      <td>0.0</td>\n",
       "      <td>pyiron@DESKTOP-L677PA7#1</td>\n",
       "      <td>Lammps</td>\n",
       "      <td>0.1</td>\n",
       "      <td>None</td>\n",
       "      <td>None</td>\n",
       "    </tr>\n",
       "    <tr>\n",
       "      <th>8</th>\n",
       "      <td>18</td>\n",
       "      <td>finished</td>\n",
       "      <td>Al4</td>\n",
       "      <td>job_s2p0</td>\n",
       "      <td>/job_s2p0</td>\n",
       "      <td>/home/neugebau/</td>\n",
       "      <td>pyiron/test/</td>\n",
       "      <td>2022-05-10 21:40:04.285894</td>\n",
       "      <td>2022-05-10 21:40:04.876025</td>\n",
       "      <td>0.0</td>\n",
       "      <td>pyiron@DESKTOP-L677PA7#1</td>\n",
       "      <td>Lammps</td>\n",
       "      <td>0.1</td>\n",
       "      <td>None</td>\n",
       "      <td>None</td>\n",
       "    </tr>\n",
       "  </tbody>\n",
       "</table>\n",
       "</div>"
      ],
      "text/plain": [
       "   id    status chemicalformula                      job  \\\n",
       "0  10  finished             Al4  job_s0p2222222222222222   \n",
       "1  11  finished             Al4  job_s0p4444444444444444   \n",
       "2  12  finished             Al4  job_s0p6666666666666666   \n",
       "3  13  finished             Al4  job_s0p8888888888888888   \n",
       "4  14  finished             Al4  job_s1p1111111111111112   \n",
       "5  15  finished             Al4  job_s1p3333333333333333   \n",
       "6  16  finished             Al4  job_s1p5555555555555554   \n",
       "7  17  finished             Al4  job_s1p7777777777777777   \n",
       "8  18  finished             Al4                 job_s2p0   \n",
       "\n",
       "                     subjob      projectpath       project  \\\n",
       "0  /job_s0p2222222222222222  /home/neugebau/  pyiron/test/   \n",
       "1  /job_s0p4444444444444444  /home/neugebau/  pyiron/test/   \n",
       "2  /job_s0p6666666666666666  /home/neugebau/  pyiron/test/   \n",
       "3  /job_s0p8888888888888888  /home/neugebau/  pyiron/test/   \n",
       "4  /job_s1p1111111111111112  /home/neugebau/  pyiron/test/   \n",
       "5  /job_s1p3333333333333333  /home/neugebau/  pyiron/test/   \n",
       "6  /job_s1p5555555555555554  /home/neugebau/  pyiron/test/   \n",
       "7  /job_s1p7777777777777777  /home/neugebau/  pyiron/test/   \n",
       "8                 /job_s2p0  /home/neugebau/  pyiron/test/   \n",
       "\n",
       "                   timestart                   timestop  totalcputime  \\\n",
       "0 2022-05-10 21:39:55.021059 2022-05-10 21:39:55.783042           0.0   \n",
       "1 2022-05-10 21:39:56.370144 2022-05-10 21:39:56.972171           0.0   \n",
       "2 2022-05-10 21:39:57.564563 2022-05-10 21:39:58.153286           0.0   \n",
       "3 2022-05-10 21:39:58.682627 2022-05-10 21:39:59.231047           0.0   \n",
       "4 2022-05-10 21:39:59.779011 2022-05-10 21:40:00.339470           0.0   \n",
       "5 2022-05-10 21:40:00.871687 2022-05-10 21:40:01.450636           0.0   \n",
       "6 2022-05-10 21:40:02.012762 2022-05-10 21:40:02.580739           0.0   \n",
       "7 2022-05-10 21:40:03.139951 2022-05-10 21:40:03.731022           0.0   \n",
       "8 2022-05-10 21:40:04.285894 2022-05-10 21:40:04.876025           0.0   \n",
       "\n",
       "                   computer hamilton hamversion parentid masterid  \n",
       "0  pyiron@DESKTOP-L677PA7#1   Lammps        0.1     None     None  \n",
       "1  pyiron@DESKTOP-L677PA7#1   Lammps        0.1     None     None  \n",
       "2  pyiron@DESKTOP-L677PA7#1   Lammps        0.1     None     None  \n",
       "3  pyiron@DESKTOP-L677PA7#1   Lammps        0.1     None     None  \n",
       "4  pyiron@DESKTOP-L677PA7#1   Lammps        0.1     None     None  \n",
       "5  pyiron@DESKTOP-L677PA7#1   Lammps        0.1     None     None  \n",
       "6  pyiron@DESKTOP-L677PA7#1   Lammps        0.1     None     None  \n",
       "7  pyiron@DESKTOP-L677PA7#1   Lammps        0.1     None     None  \n",
       "8  pyiron@DESKTOP-L677PA7#1   Lammps        0.1     None     None  "
      ]
     },
     "execution_count": 5,
     "metadata": {},
     "output_type": "execute_result"
    }
   ],
   "source": [
    "pr.job_table()"
   ]
  },
  {
   "cell_type": "code",
   "execution_count": null,
   "id": "9306aff9-b3d4-4f82-a4c4-103191be87e3",
   "metadata": {},
   "outputs": [],
   "source": []
  }
 ],
 "metadata": {
  "kernelspec": {
   "display_name": "Python 3 (ipykernel)",
   "language": "python",
   "name": "python3"
  },
  "language_info": {
   "codemirror_mode": {
    "name": "ipython",
    "version": 3
   },
   "file_extension": ".py",
   "mimetype": "text/x-python",
   "name": "python",
   "nbconvert_exporter": "python",
   "pygments_lexer": "ipython3",
   "version": "3.9.12"
  }
 },
 "nbformat": 4,
 "nbformat_minor": 5
}
