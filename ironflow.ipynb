{
 "cells": [
  {
   "cell_type": "markdown",
   "id": "f99c0a97-43fa-453d-a051-487610fcd834",
   "metadata": {},
   "source": [
    "# Test ironflow"
   ]
  },
  {
   "cell_type": "code",
   "execution_count": 1,
   "id": "36c6dfa3-d530-457a-9f6e-769cc8b56c83",
   "metadata": {},
   "outputs": [],
   "source": [
    "from ironflow2 import GUI, NodeWidgets, NodeWidget, ButtonNodeWidget, CanvasLayout\n",
    "import numpy as np"
   ]
  },
  {
   "cell_type": "code",
   "execution_count": 2,
   "id": "d6a33222-2ae5-4a3e-b9b8-e72874243754",
   "metadata": {},
   "outputs": [],
   "source": [
    "from pyiron import Project\n",
    "pr = Project('.')\n",
    "Al = pr.create.structure.bulk('Al')"
   ]
  },
  {
   "cell_type": "code",
   "execution_count": 4,
   "id": "9fd9f5af-b0a9-4eaf-ab4d-d6f21d57a12b",
   "metadata": {},
   "outputs": [],
   "source": [
    "gui = GUI()"
   ]
  },
  {
   "cell_type": "code",
   "execution_count": 5,
   "id": "844303cc-4de0-4113-8fb1-18c0b09883b2",
   "metadata": {},
   "outputs": [
    {
     "data": {
      "application/vnd.jupyter.widget-view+json": {
       "model_id": "e64af4f9ded6442db7cebe67ba0577d8",
       "version_major": 2,
       "version_minor": 0
      },
      "text/plain": [
       "VBox(children=(HBox(children=(Dropdown(layout=Layout(width='130px'), options=('special_nodes', 'basic_operator…"
      ]
     },
     "metadata": {},
     "output_type": "display_data"
    }
   ],
   "source": [
    "gui.draw()"
   ]
  },
  {
   "cell_type": "code",
   "execution_count": 26,
   "id": "d01577d5-2476-4f47-9a0c-f64c3933e32a",
   "metadata": {},
   "outputs": [],
   "source": [
    "gui.canvas_widget.redraw()"
   ]
  },
  {
   "cell_type": "code",
   "execution_count": null,
   "id": "70532430-a2d9-4ae8-a539-4d1ad957ff75",
   "metadata": {},
   "outputs": [],
   "source": [
    "Al.plot3d()"
   ]
  },
  {
   "cell_type": "code",
   "execution_count": 9,
   "id": "81275e04-612a-49bc-a7a9-8951b3a1f2bd",
   "metadata": {},
   "outputs": [],
   "source": [
    "with gui.out_plot:\n",
    "    display(Al.plot3d())"
   ]
  },
  {
   "cell_type": "code",
   "execution_count": 12,
   "id": "18ec6d9c-ff42-41e9-bc5e-bd1b428cf6c7",
   "metadata": {},
   "outputs": [
    {
     "data": {
      "application/vnd.jupyter.widget-view+json": {
       "model_id": "fe8e6634c7ba462c870486834c5e8913",
       "version_major": 2,
       "version_minor": 0
      },
      "text/plain": [
       "IntText(value=0)"
      ]
     },
     "metadata": {},
     "output_type": "display_data"
    }
   ],
   "source": [
    "import ipywidgets as widgets\n",
    "inp = widgets.IntText()\n",
    "inp."
   ]
  },
  {
   "cell_type": "code",
   "execution_count": 4,
   "id": "6d4b8f6f-edd5-4103-b65b-bc3a12397968",
   "metadata": {},
   "outputs": [],
   "source": [
    "def deserialize(data):\n",
    "    return pickle.loads(base64.b64decode(data))"
   ]
  },
  {
   "cell_type": "code",
   "execution_count": 14,
   "id": "1930e247-8d3e-4cb5-ad37-b85bc3f6772e",
   "metadata": {},
   "outputs": [
    {
     "ename": "AttributeError",
     "evalue": "'Plot3d_Node' object has no attribute 'init'",
     "output_type": "error",
     "traceback": [
      "\u001b[0;31m---------------------------------------------------------------------------\u001b[0m",
      "\u001b[0;31mAttributeError\u001b[0m                            Traceback (most recent call last)",
      "Input \u001b[0;32mIn [14]\u001b[0m, in \u001b[0;36m<cell line: 2>\u001b[0;34m()\u001b[0m\n\u001b[1;32m      1\u001b[0m n_linspace \u001b[38;5;241m=\u001b[39m gui\u001b[38;5;241m.\u001b[39mcanvas_widget\u001b[38;5;241m.\u001b[39mobjects_to_draw[\u001b[38;5;241m2\u001b[39m]\u001b[38;5;241m.\u001b[39mnode\n\u001b[0;32m----> 2\u001b[0m \u001b[43mn_linspace\u001b[49m\u001b[38;5;241;43m.\u001b[39;49m\u001b[43mupdate_event\u001b[49m\u001b[43m(\u001b[49m\u001b[38;5;241;43m0\u001b[39;49m\u001b[43m)\u001b[49m\n\u001b[1;32m      3\u001b[0m n_linspace\n",
      "File \u001b[0;32m~/myjupyternotebooks/pyiron/Developments/GUI/ryven/std/pyiron_nodes.py:113\u001b[0m, in \u001b[0;36mPlot3d_Node.update_event\u001b[0;34m(self, inp)\u001b[0m\n\u001b[1;32m    111\u001b[0m \u001b[38;5;28;01mdef\u001b[39;00m \u001b[38;5;21mupdate_event\u001b[39m(\u001b[38;5;28mself\u001b[39m, inp\u001b[38;5;241m=\u001b[39m\u001b[38;5;241m-\u001b[39m\u001b[38;5;241m1\u001b[39m):\n\u001b[1;32m    112\u001b[0m     \u001b[38;5;28;01mif\u001b[39;00m \u001b[38;5;28mself\u001b[39m\u001b[38;5;241m.\u001b[39mactive \u001b[38;5;129;01mand\u001b[39;00m inp \u001b[38;5;241m==\u001b[39m \u001b[38;5;241m0\u001b[39m:\n\u001b[0;32m--> 113\u001b[0m         \u001b[38;5;28mself\u001b[39m\u001b[38;5;241m.\u001b[39mval \u001b[38;5;241m=\u001b[39m \u001b[38;5;28;43mself\u001b[39;49m\u001b[38;5;241;43m.\u001b[39;49m\u001b[43minit\u001b[49m(\u001b[38;5;241m1\u001b[39m)\u001b[38;5;241m.\u001b[39mplot3d()\n\u001b[1;32m    114\u001b[0m     \u001b[38;5;28;01melif\u001b[39;00m \u001b[38;5;129;01mnot\u001b[39;00m \u001b[38;5;28mself\u001b[39m\u001b[38;5;241m.\u001b[39mactive:\n\u001b[1;32m    115\u001b[0m         \u001b[38;5;28mself\u001b[39m\u001b[38;5;241m.\u001b[39mval \u001b[38;5;241m=\u001b[39m \u001b[38;5;28mself\u001b[39m\u001b[38;5;241m.\u001b[39minput(\u001b[38;5;241m0\u001b[39m)\n",
      "\u001b[0;31mAttributeError\u001b[0m: 'Plot3d_Node' object has no attribute 'init'"
     ]
    }
   ],
   "source": [
    "n_linspace = gui.canvas_widget.objects_to_draw[2].node\n",
    "n_linspace.update_event(0)\n",
    "n_linspace"
   ]
  },
  {
   "cell_type": "code",
   "execution_count": 15,
   "id": "0d5b5447-b937-40ef-a318-344002708b9b",
   "metadata": {},
   "outputs": [
    {
     "data": {
      "text/plain": [
       "Mg: [0. 0. 0.]\n",
       "Mg: [-8.86328048e-17  1.85329436e+00  2.60652000e+00]\n",
       "pbc: [ True  True  True]\n",
       "cell: \n",
       "Cell([[3.21, 0.0, 0.0], [-1.605, 2.7799415461480477, 0.0], [0.0, 0.0, 5.21304]])"
      ]
     },
     "execution_count": 15,
     "metadata": {},
     "output_type": "execute_result"
    }
   ],
   "source": [
    "import pickle\n",
    "import base64\n",
    "\n",
    "n_linspace = gui.canvas_widget.objects_to_draw[1].node\n",
    "out = n_linspace.outputs[0]\n",
    "type(out.get_val())\n",
    "inp = n_linspace.input(0)\n",
    "inp.create.structure.bulk(n_linspace.input(1))\n",
    "# deserialize(inp.data()['dtype state'])  #['default']"
   ]
  },
  {
   "cell_type": "code",
   "execution_count": 4,
   "id": "e60d9d76-13ef-426e-b2b0-bd6b2a4b1618",
   "metadata": {},
   "outputs": [
    {
     "ename": "UnboundLocalError",
     "evalue": "local variable 'dtype_state' referenced before assignment",
     "output_type": "error",
     "traceback": [
      "\u001b[0;31m---------------------------------------------------------------------------\u001b[0m",
      "\u001b[0;31mUnboundLocalError\u001b[0m                         Traceback (most recent call last)",
      "Input \u001b[0;32mIn [4]\u001b[0m, in \u001b[0;36m<cell line: 2>\u001b[0;34m()\u001b[0m\n\u001b[1;32m      1\u001b[0m n_mpl \u001b[38;5;241m=\u001b[39m gui\u001b[38;5;241m.\u001b[39mcanvas_widget\u001b[38;5;241m.\u001b[39mobjects_to_draw[\u001b[38;5;241m-\u001b[39m\u001b[38;5;241m1\u001b[39m]\u001b[38;5;241m.\u001b[39mnode\n\u001b[0;32m----> 2\u001b[0m nw \u001b[38;5;241m=\u001b[39m \u001b[43mNodeWidgets\u001b[49m\u001b[43m(\u001b[49m\u001b[43mn_mpl\u001b[49m\u001b[43m,\u001b[49m\u001b[43m \u001b[49m\u001b[43mgui\u001b[49m\u001b[43m)\u001b[49m\n\u001b[1;32m      3\u001b[0m inp \u001b[38;5;241m=\u001b[39m n_mpl\u001b[38;5;241m.\u001b[39minputs[\u001b[38;5;241m0\u001b[39m]\n\u001b[1;32m      4\u001b[0m \u001b[38;5;66;03m# inp.val, nw.\u001b[39;00m\n",
      "File \u001b[0;32m~/myjupyternotebooks/pyiron/Developments/GUI/ironflow2.py:395\u001b[0m, in \u001b[0;36mNodeWidgets.__init__\u001b[0;34m(self, node, central_gui)\u001b[0m\n\u001b[1;32m    393\u001b[0m \u001b[38;5;28mself\u001b[39m\u001b[38;5;241m.\u001b[39m_central_gui \u001b[38;5;241m=\u001b[39m central_gui\n\u001b[1;32m    394\u001b[0m \u001b[38;5;28mself\u001b[39m\u001b[38;5;241m.\u001b[39mgui_object()\n\u001b[0;32m--> 395\u001b[0m \u001b[38;5;28;43mself\u001b[39;49m\u001b[38;5;241;43m.\u001b[39;49m\u001b[43minput_widgets\u001b[49m\u001b[43m(\u001b[49m\u001b[43m)\u001b[49m\n",
      "File \u001b[0;32m~/myjupyternotebooks/pyiron/Developments/GUI/ironflow2.py:424\u001b[0m, in \u001b[0;36mNodeWidgets.input_widgets\u001b[0;34m(self)\u001b[0m\n\u001b[1;32m    421\u001b[0m     \u001b[38;5;66;03m# inp_widget = \u001b[39;00m\n\u001b[1;32m    422\u001b[0m \u001b[38;5;28;01melse\u001b[39;00m:\n\u001b[1;32m    423\u001b[0m     \u001b[38;5;28;01mif\u001b[39;00m inp\u001b[38;5;241m.\u001b[39mval \u001b[38;5;129;01mis\u001b[39;00m \u001b[38;5;28;01mNone\u001b[39;00m:\n\u001b[0;32m--> 424\u001b[0m         inp\u001b[38;5;241m.\u001b[39mval \u001b[38;5;241m=\u001b[39m \u001b[43mdtype_state\u001b[49m[\u001b[38;5;124m'\u001b[39m\u001b[38;5;124mval\u001b[39m\u001b[38;5;124m'\u001b[39m]\n\u001b[1;32m    425\u001b[0m     dtype \u001b[38;5;241m=\u001b[39m \u001b[38;5;28mstr\u001b[39m(inp\u001b[38;5;241m.\u001b[39mdtype)\u001b[38;5;241m.\u001b[39msplit(\u001b[38;5;124m'\u001b[39m\u001b[38;5;124m.\u001b[39m\u001b[38;5;124m'\u001b[39m)[\u001b[38;5;241m-\u001b[39m\u001b[38;5;241m1\u001b[39m]\n\u001b[1;32m    426\u001b[0m     dtype_state \u001b[38;5;241m=\u001b[39m deserialize(inp\u001b[38;5;241m.\u001b[39mdata()[\u001b[38;5;124m'\u001b[39m\u001b[38;5;124mdtype state\u001b[39m\u001b[38;5;124m'\u001b[39m])\n",
      "\u001b[0;31mUnboundLocalError\u001b[0m: local variable 'dtype_state' referenced before assignment"
     ]
    }
   ],
   "source": [
    "\n",
    "n_mpl = gui.canvas_widget.objects_to_draw[-1].node\n",
    "nw = NodeWidgets(n_mpl, gui)\n",
    "inp = n_mpl.inputs[0]\n",
    "# inp.val, nw.\n",
    "nw._input[0][1]"
   ]
  },
  {
   "cell_type": "code",
   "execution_count": null,
   "id": "ece3ad64-32d3-4f0e-8538-9e4e46c5aabb",
   "metadata": {},
   "outputs": [],
   "source": [
    "from IPython.display import display\n",
    "\n",
    "# display(gui.canvas_widget.objects_to_draw[-1].node.val_plt)"
   ]
  },
  {
   "cell_type": "code",
   "execution_count": null,
   "id": "cb32b24d-a435-4f56-991b-516637037a99",
   "metadata": {},
   "outputs": [],
   "source": [
    "np.linspace(1,16,2)"
   ]
  },
  {
   "cell_type": "code",
   "execution_count": null,
   "id": "6d676ff3-0896-46dc-8ef9-b68dc35281fa",
   "metadata": {},
   "outputs": [],
   "source": [
    "# NodeWidgets(gui.canvas_widget.objects_to_draw[0].node, gui) "
   ]
  },
  {
   "cell_type": "code",
   "execution_count": null,
   "id": "80113ad7-91bf-4efd-8259-d9ec3a75a58f",
   "metadata": {},
   "outputs": [],
   "source": [
    "n_random = gui.canvas_widget.objects_to_draw[0].node\n",
    "n_random.update_event(inp=-1)\n",
    "n_random.outputs[0].val"
   ]
  },
  {
   "cell_type": "code",
   "execution_count": null,
   "id": "0995e952-b9db-4cb5-af0f-4f8de0eed6e5",
   "metadata": {},
   "outputs": [],
   "source": [
    "gui.canvas_widget._selected_object.node.outputs[0].set_val(np.random.randint(4))\n",
    "gui.canvas_widget._selected_object.node.outputs[0].val\n",
    "gui.canvas_widget.redraw()"
   ]
  },
  {
   "cell_type": "code",
   "execution_count": null,
   "id": "eff9a5ca-26f0-4f30-aa65-7bf2d9aeb6eb",
   "metadata": {},
   "outputs": [],
   "source": [
    "gui.canvas_widget._selected_object.node.outputs[0].set_val"
   ]
  },
  {
   "cell_type": "code",
   "execution_count": null,
   "id": "eb74690e-91f4-429e-9abb-04acf924bc47",
   "metadata": {},
   "outputs": [],
   "source": [
    "gui.canvas_widget._selected_object.node.exec_output(0)\n",
    "gui.canvas_widget.redraw()"
   ]
  },
  {
   "cell_type": "code",
   "execution_count": null,
   "id": "3c85d49f-5bb6-4baf-8e20-2c4045c983a0",
   "metadata": {},
   "outputs": [],
   "source": [
    "gui.canvas_widget._selected_object.port.GLOBAL_ID, gui.canvas_widget._selected_object.x"
   ]
  },
  {
   "cell_type": "code",
   "execution_count": null,
   "id": "abc79ca4-652e-4d2d-9a19-efa0f65f43d3",
   "metadata": {},
   "outputs": [],
   "source": [
    "gui.canvas_widget.script.flow.connections"
   ]
  },
  {
   "cell_type": "code",
   "execution_count": null,
   "id": "cf8f8823-fef9-4d9d-ac8d-f51814ee4446",
   "metadata": {},
   "outputs": [],
   "source": [
    "gui.canvas_widget.script.flow.connections[0].inp"
   ]
  },
  {
   "cell_type": "code",
   "execution_count": null,
   "id": "f1bcdb8b-d509-4aac-9d50-5fce93301fe4",
   "metadata": {},
   "outputs": [],
   "source": [
    "%%time\n",
    "object_to_gui_dict = {}\n",
    "for n in gui.canvas_widget.objects_to_draw:\n",
    "    object_to_gui_dict[n.node] = n\n",
    "    # print ('node: ', n.node.GLOBAL_ID)\n",
    "    for p in n.objects_to_draw:\n",
    "        object_to_gui_dict[p.port] = p\n",
    "        # print ('   port: ', o.port.GLOBAL_ID)   \n",
    "object_to_gui_dict        "
   ]
  },
  {
   "cell_type": "code",
   "execution_count": null,
   "id": "8879f7af-f69f-4667-9f57-c7945e64b9d6",
   "metadata": {},
   "outputs": [],
   "source": [
    "%%time\n",
    "for n in gui.canvas_widget.script.flow.nodes:\n",
    "    print ('node: ', n.GLOBAL_ID)\n",
    "    for o in n.outputs:\n",
    "        print ('out: ', o.GLOBAL_ID)\n",
    "    for i in n.inputs:\n",
    "        print ('inp: ', i.GLOBAL_ID)\n",
    "    "
   ]
  },
  {
   "cell_type": "code",
   "execution_count": null,
   "id": "25c2a8a4-7888-4202-a54d-6f50e4ff10ae",
   "metadata": {},
   "outputs": [],
   "source": [
    "gui.canvas_widget.script.flow.connect_nodes(p1, p2)"
   ]
  },
  {
   "cell_type": "code",
   "execution_count": null,
   "id": "3024f155-12c2-40e1-b66e-ee6e6855525d",
   "metadata": {},
   "outputs": [],
   "source": [
    "gui.canvas_widget.script.flow.set_algorithm_mode('exec')"
   ]
  },
  {
   "cell_type": "code",
   "execution_count": null,
   "id": "9205e17a-43dd-4af7-81d9-79b3bec05cc8",
   "metadata": {},
   "outputs": [],
   "source": [
    "# isinstance(gui.canvas_widget._selected_object, NodeWidget)"
   ]
  },
  {
   "cell_type": "code",
   "execution_count": null,
   "id": "8c8a5c25-c7ad-469e-afa0-e2da17249519",
   "metadata": {},
   "outputs": [],
   "source": [
    "# NodeWidgets(gui.canvas_widget._selected_object.node, gui).draw()"
   ]
  },
  {
   "cell_type": "code",
   "execution_count": null,
   "id": "f2231714-f60b-46a4-a213-8d056520d108",
   "metadata": {},
   "outputs": [],
   "source": [
    "gui.canvas_widget.objects_to_draw[0].draw()"
   ]
  },
  {
   "cell_type": "code",
   "execution_count": null,
   "id": "aae21c51-7129-49ae-b49d-9e7f4bb78333",
   "metadata": {},
   "outputs": [],
   "source": [
    "gui.canvas_widget.add_node(200, 200, gui._selected_node)"
   ]
  },
  {
   "cell_type": "code",
   "execution_count": null,
   "id": "a3772358-bef8-410c-99aa-48f8d166720e",
   "metadata": {},
   "outputs": [],
   "source": [
    "gui.canvas_widget.objects_to_draw  #[2].node.inputs[0].label_str"
   ]
  },
  {
   "cell_type": "code",
   "execution_count": null,
   "id": "44908384-7bd9-4496-b676-695763b88b30",
   "metadata": {},
   "outputs": [],
   "source": [
    "widgets.FloatSlider(val=gui.canvas_widget.objects_to_draw[0].node.val)"
   ]
  },
  {
   "cell_type": "code",
   "execution_count": null,
   "id": "b17171f9-98ef-46d7-b2e2-aa05a2019a14",
   "metadata": {},
   "outputs": [],
   "source": [
    "NodeWidgets(gui.canvas_widget.objects_to_draw[2].node, gui)"
   ]
  },
  {
   "cell_type": "code",
   "execution_count": null,
   "id": "0fd2cfec-b76c-4504-bc10-301d08cd1065",
   "metadata": {},
   "outputs": [],
   "source": [
    "# gui.canvas_widget.objects_to_draw[0].node.inputs[0]"
   ]
  },
  {
   "cell_type": "code",
   "execution_count": null,
   "id": "a8b11bba-3872-44ad-aa6a-53b97ab5b698",
   "metadata": {},
   "outputs": [],
   "source": [
    "import ipywidgets as widgets\n",
    "widgets.Text(value='123')"
   ]
  },
  {
   "cell_type": "code",
   "execution_count": null,
   "id": "b418a2fc-6173-4f6c-af22-ac6cfaccb408",
   "metadata": {},
   "outputs": [],
   "source": [
    "str(nn.input(0))"
   ]
  },
  {
   "cell_type": "code",
   "execution_count": null,
   "id": "e5f36636-dc4b-4f7f-ae12-bc473f16b262",
   "metadata": {},
   "outputs": [],
   "source": [
    "nn.input(1).__repr__"
   ]
  },
  {
   "cell_type": "code",
   "execution_count": null,
   "id": "d04a2303-f2a7-43f4-b83a-0466e5937465",
   "metadata": {},
   "outputs": [],
   "source": [
    "out = widgets.Output()\n",
    "with out:\n",
    "    # print (nn.input(1))\n",
    "    nn.update_event(0)\n",
    "out    "
   ]
  },
  {
   "cell_type": "code",
   "execution_count": null,
   "id": "476934c8-3a67-4bbc-8c42-50f9ef439ed3",
   "metadata": {},
   "outputs": [],
   "source": [
    "nn = gui.canvas_widget.objects_to_draw[0].node\n",
    "# nn??\n",
    "# nn.val"
   ]
  },
  {
   "cell_type": "code",
   "execution_count": null,
   "id": "8a2c4d4e-615a-485f-9b57-b85fc6852435",
   "metadata": {},
   "outputs": [],
   "source": [
    "gui.canvas_widget.objects_to_draw[1].node.update_event(0)"
   ]
  },
  {
   "cell_type": "code",
   "execution_count": null,
   "id": "10fdf2e5-1d1c-4be3-a5f9-b05883c1ac76",
   "metadata": {},
   "outputs": [],
   "source": [
    "n_slider = gui.canvas_widget.objects_to_draw[0].node\n",
    "n_result = gui.canvas_widget.objects_to_draw[1].node\n",
    "n_slider.inputs[0].val = 2\n",
    "\n",
    "n_slider.set_state({'val': 2}, 0)\n",
    "n_slider.update_event()\n",
    "gui.canvas_widget.redraw()\n",
    "\n",
    "n_result"
   ]
  },
  {
   "cell_type": "code",
   "execution_count": null,
   "id": "f26cf5d5-36c9-408b-80c4-cea4e64caf2e",
   "metadata": {},
   "outputs": [],
   "source": [
    "gui.canvas_widget._selected_node_ind\n",
    "node = gui.canvas_widget.objects_to_draw[0]\n",
    "str(None)"
   ]
  },
  {
   "cell_type": "code",
   "execution_count": null,
   "id": "c7dee2ae-0ba9-4199-97f3-80123a65ba3b",
   "metadata": {},
   "outputs": [],
   "source": [
    "nw._node"
   ]
  },
  {
   "cell_type": "code",
   "execution_count": null,
   "id": "cee56a2b-7fc9-4aaa-b994-265660ad19a2",
   "metadata": {},
   "outputs": [],
   "source": [
    "nn = gui.canvas_widget.objects_to_draw[0].node\n",
    "nw = NodeWidgets(nn)\n",
    "nw.draw()"
   ]
  },
  {
   "cell_type": "code",
   "execution_count": null,
   "id": "188620a9-66be-4d8a-9f9f-ed461030d481",
   "metadata": {},
   "outputs": [],
   "source": [
    "nn.inputs[0].val, nn.outputs[0].val"
   ]
  },
  {
   "cell_type": "code",
   "execution_count": null,
   "id": "8b1fc03a-980a-4fcb-b608-b06d0df5bc77",
   "metadata": {},
   "outputs": [],
   "source": [
    "import ipywidgets as widgets\n",
    "import numpy as np\n",
    "\n",
    "class NodeWidgets:\n",
    "    def __init__(self, node):\n",
    "        self._node = node\n",
    "        self.gui_object()\n",
    "        self.input_widgets()\n",
    "        # self.input = []\n",
    "        \n",
    "    def gui_object(self):\n",
    "        if 'slider' in self._node.title.lower():\n",
    "            self.gui = widgets.FloatSlider(val=self._node.val, min=0, max=10)\n",
    "\n",
    "            self.gui.observe(self.gui_object_change, names='value') \n",
    "        else:\n",
    "            self.gui = widgets.Box()\n",
    "        return self.gui\n",
    "\n",
    "    def gui_object_change(self, change):\n",
    "        self._node.set_state({'val': change['new']}, 0)\n",
    "        self._node.update_event()\n",
    "        gui.canvas_widget.redraw()\n",
    "        \n",
    "    def input_widgets(self):\n",
    "        self._input = []\n",
    "        for i_c, inp in enumerate(self._node.inputs[:]):\n",
    "            if inp.dtype is None:\n",
    "                continue\n",
    "                \n",
    "            dtype = str(inp.dtype).split('.')[-1]\n",
    "            # print (dtype)\n",
    "            if dtype == 'Integer':\n",
    "                inp_widget = widgets.IntText(\n",
    "                                        value=inp.val,\n",
    "                                        disabled=False,\n",
    "                                        description='',\n",
    "                                        layout=widgets.Layout(width='110px', border='solid 1px')\n",
    "                                    )\n",
    "                \n",
    "            elif dtype == 'Boolean':\n",
    "                inp_widget = widgets.Checkbox(\n",
    "                                        value=inp.val,\n",
    "                                        indent=True,\n",
    "                                        description='',\n",
    "                                        layout=widgets.Layout(width='110px', border='solid 1px')\n",
    "                                    )\n",
    "                \n",
    "            description = inp.label_str\n",
    "            self._input.append([widgets.Label(description), inp_widget])\n",
    "            \n",
    "            inp_widget.observe(eval(f'self.input_change_{i_c}'), names='value')\n",
    "       \n",
    "    def input_change(self, i_c, change):\n",
    "        # print (change)\n",
    "        self._node.inputs[i_c].val = change['new']\n",
    "        self._node.update_event()\n",
    "        gui.canvas_widget.redraw()\n",
    "        \n",
    "    def input_change_0(self, change):\n",
    "        self.input_change(0, change)\n",
    "        \n",
    "    def input_change_1(self, change):\n",
    "        self.input_change(1, change)        \n",
    "        \n",
    "    def draw(self):\n",
    "        self.inp_box = widgets.GridBox(list(np.array(self._input).flatten()), \n",
    "                                  layout=widgets.Layout(width='210px', \n",
    "                                                        grid_template_columns=\"90px 110px\", \n",
    "                                                        # grid_gap='1px 1px',\n",
    "                                                        border='solid 1px blue',\n",
    "                                                        margin='10px'\n",
    "                                                       ))\n",
    "        \n",
    "        self.gui.layout = widgets.Layout(height='70px', \n",
    "                                          border='solid 1px red',\n",
    "                                          margin='10px',\n",
    "                                          padding='10px')\n",
    "        \n",
    "        global_id = widgets.Text(\n",
    "                value=str(self._node.GLOBAL_ID),\n",
    "                # placeholder='Type something',\n",
    "                description='GLOBAL_ID:',\n",
    "                disabled=True\n",
    "            )\n",
    "        # global_id.layout.width = '300px'\n",
    "        \n",
    "        title = widgets.Text(\n",
    "                value=str(self._node.title),\n",
    "                # placeholder='Type something',\n",
    "                description='Title:',\n",
    "                disabled=True\n",
    "            ) \n",
    "        # title.layout.width = '300px'\n",
    "        \n",
    "        info_box = widgets.VBox([global_id, title])\n",
    "        info_box.layout = widgets.Layout(height='70px', \n",
    "                                         width='350px',\n",
    "                                          border='solid 1px red',\n",
    "                                          margin='10px',\n",
    "                                          padding='0px')\n",
    "\n",
    "        return widgets.HBox([self.inp_box, self.gui, info_box])\n",
    "        \n",
    "\n",
    "\n",
    "\n",
    "nw = NodeWidgets(node)\n",
    "gs = nw.gui_object()\n",
    "nw.draw()"
   ]
  },
  {
   "cell_type": "code",
   "execution_count": null,
   "id": "79dcbf31-9135-4783-9f2d-654a8907230a",
   "metadata": {},
   "outputs": [],
   "source": [
    "'slider' in n_slider.title.lower()"
   ]
  },
  {
   "cell_type": "code",
   "execution_count": null,
   "id": "373257d0-bb7c-42af-8b57-0dec1297a0b3",
   "metadata": {},
   "outputs": [],
   "source": [
    "# nw.inp_box.layout.grid_column='0px'\n",
    "# nw.inp_box.layout.border = 'solid 1px'\n",
    "# nw.inp_box.layout.margin = '0px'\n",
    "# nw.inp_box.layout.\n",
    "nw._node"
   ]
  },
  {
   "cell_type": "code",
   "execution_count": null,
   "id": "d59b34e8-d768-4320-a600-64d278160f6a",
   "metadata": {},
   "outputs": [],
   "source": [
    "n_result.inputs[0].data()"
   ]
  },
  {
   "cell_type": "code",
   "execution_count": null,
   "id": "b499de73-42e4-466a-b1f9-3446fd2f3c94",
   "metadata": {},
   "outputs": [],
   "source": [
    "n_inp0 = n_slider.inputs[0]\n",
    "# n_inp0['dtype']\n",
    "# n_inp0['label']\n",
    "n_inp0.label_str, str(n_inp0.dtype).split('.')[-1], n_inp0.val\n",
    "str(n_inp0.dtype)"
   ]
  },
  {
   "cell_type": "code",
   "execution_count": null,
   "id": "54fee2a2-57b4-4cdc-ac22-68bdefa5db74",
   "metadata": {},
   "outputs": [],
   "source": [
    "gui.canvas_widget.objects_to_draw[1].val"
   ]
  },
  {
   "cell_type": "code",
   "execution_count": null,
   "id": "7d5ef9ad-545d-4d95-870d-aa46e12053d2",
   "metadata": {},
   "outputs": [],
   "source": [
    "n_slider, n_result = [n.node for n in gui.canvas_widget.objects_to_draw]\n",
    "out = n_slider.outputs[0]\n",
    "inp = n_result.inputs[0]"
   ]
  },
  {
   "cell_type": "code",
   "execution_count": null,
   "id": "f0e2ca34-db08-476b-8e78-f2476776ab79",
   "metadata": {},
   "outputs": [],
   "source": [
    "flow = gui.canvas_widget.script.flow"
   ]
  },
  {
   "cell_type": "code",
   "execution_count": null,
   "id": "9cb4be48-933a-407a-a861-2df2be640097",
   "metadata": {},
   "outputs": [],
   "source": [
    "flow.connect_nodes(inp, out)"
   ]
  },
  {
   "cell_type": "code",
   "execution_count": null,
   "id": "fe1d8265-f17a-42a6-be18-3f72b2977ba1",
   "metadata": {},
   "outputs": [],
   "source": [
    "gui.canvas_widget.connections.append([0,1])\n",
    "gui.canvas_widget.redraw()"
   ]
  },
  {
   "cell_type": "code",
   "execution_count": null,
   "id": "d77cbef4-8b37-4ede-816f-4b5a14b70e33",
   "metadata": {},
   "outputs": [],
   "source": [
    "gui.canvas_widget.draw_connection([0,1])"
   ]
  },
  {
   "cell_type": "code",
   "execution_count": null,
   "id": "afa04fb6-5e7f-4c3e-9885-138daef6034e",
   "metadata": {},
   "outputs": [],
   "source": [
    "gui.mode.value = 'Add (C)onnection'"
   ]
  },
  {
   "cell_type": "code",
   "execution_count": null,
   "id": "a8f753e0-668e-44a5-bb49-9482e4ec9176",
   "metadata": {},
   "outputs": [],
   "source": [
    "gui.canvas_widget._selected_node_ind"
   ]
  },
  {
   "cell_type": "code",
   "execution_count": null,
   "id": "fd004090-0729-4869-83a3-7f4369f260cc",
   "metadata": {},
   "outputs": [],
   "source": [
    "[o.selected for o in gui.canvas_widget.objects_to_draw]"
   ]
  },
  {
   "cell_type": "code",
   "execution_count": null,
   "id": "aecec8c8-46f4-489d-b9e6-55df464a42f5",
   "metadata": {},
   "outputs": [],
   "source": [
    "gui.canvas_widget.handle_mouse_down(100, 100)"
   ]
  },
  {
   "cell_type": "code",
   "execution_count": null,
   "id": "645fb794-7b4b-4a02-9d57-5c0b84a22fb6",
   "metadata": {},
   "outputs": [],
   "source": []
  },
  {
   "cell_type": "code",
   "execution_count": null,
   "id": "0344f051-b998-4308-bcdc-b67013054fb5",
   "metadata": {},
   "outputs": [],
   "source": [
    "gui.canvas_widget.script.flow.connections"
   ]
  },
  {
   "cell_type": "markdown",
   "id": "0e373040-6526-4feb-8939-f712e3bf2500",
   "metadata": {},
   "source": [
    "### General canvas object (for gui and nodes)"
   ]
  },
  {
   "cell_type": "code",
   "execution_count": null,
   "id": "e2f6df9b-6d8b-448c-ba99-f0f90a933311",
   "metadata": {},
   "outputs": [],
   "source": [
    "from ipycanvas import Canvas, hold_canvas\n",
    "\n",
    "class CanvasObject:\n",
    "    def __init__(self, gui=None, width=2000, height=1000, script=None):\n",
    "        self.gui = gui\n",
    "        self.script = script\n",
    "        self._width, self._height = width, height\n",
    "        self.width, self.height = width, height\n",
    "\n",
    "        self._col_background = \"black\" # \"#584f4e\"\n",
    "        self._col_node_header = \"blue\" #\"#38a8a4\"\n",
    "        self._col_node_selected = \"#9dcea6\"\n",
    "        self._col_node_unselected = \"#dee7bc\"\n",
    "        \n",
    "        self._font_size = 30\n",
    "        self._node_box_size = 160, 70\n",
    "\n",
    "        self._canvas = Canvas(width=width, height=height)\n",
    "        self._canvas.fill_style = self._col_background\n",
    "        self._canvas.fill_rect(0, 0, width, height)\n",
    "        self._canvas.layout.width = '100%'\n",
    "        self._canvas.layout.height = 'auto'\n",
    "\n",
    "        self.objects_to_draw = []\n",
    "        \n",
    "        self._canvas.on_mouse_down(self.handle_mouse_down)\n",
    "        self._canvas.on_mouse_move(self.handle_mouse_move)\n",
    "        self._canvas.on_key_down(self.handle_keyboard_event)\n",
    "        \n",
    "        self.x = 0\n",
    "        self.y = 0\n",
    "        \n",
    "        self._count_mouse = 0\n",
    "        self._last_selected_object = None\n",
    "        \n",
    "    \n",
    "    def canvas_restart(self):\n",
    "        self._canvas.clear()\n",
    "        self._canvas.fill_style = self._col_background\n",
    "        self._canvas.fill_rect(0, 0, self._width, self._height)\n",
    "           \n",
    "    def handle_keyboard_event(self, key, shift_key, ctrl_key, meta_key):\n",
    "#         with self.gui.out_log: \n",
    "#             self.gui.out_log.clear_output()\n",
    "\n",
    "#             print('Keyboard event:', key, shift_key, ctrl_key, meta_key)\n",
    "        if key == 'Delete':\n",
    "            self.delete_selected()\n",
    "        elif key == 'm':\n",
    "            self.gui.mode.value = mode_move\n",
    "        elif key == 'c':\n",
    "            self.deselect_all()\n",
    "            self.gui.mode.value = mode_connect\n",
    "        elif key == 'n':\n",
    "            self.gui.mode.value = mode_none\n",
    "            \n",
    "    def deselect_all(self):\n",
    "        [o.set_selected(False) for o in self.objects_to_draw if o.selected]\n",
    "        self.redraw()\n",
    "            \n",
    "    def handle_mouse_down(self, x, y):\n",
    "        sel_object = self.get_element_at_xy(x, y)\n",
    "        if sel_object is not None:\n",
    "            sel_object.set_selected(not sel_object.selected)\n",
    "            if sel_object.selected:\n",
    "                if self._last_selected_object is not None:\n",
    "                    self._last_selected_object.set_selected(False)\n",
    "                self._last_selected_object = sel_object\n",
    "            else:\n",
    "                self._last_selected_object = None\n",
    " \n",
    "        self._x0_mouse = x\n",
    "        self._y0_mouse = y\n",
    "        self.redraw()\n",
    "        \n",
    "    def get_selected_objects(self):\n",
    "        return [o for o in self.objects_to_draw if o.selected]\n",
    "    \n",
    "    def get_element_at_xy(self, x_in, y_in):\n",
    "        for o in self.objects_to_draw:\n",
    "            if o.is_selected(x_in, y_in):\n",
    "                return o.get_element_at_xy(x_in, y_in)\n",
    "        return None    \n",
    "\n",
    "    def handle_mouse_move(self, x, y):\n",
    "        # if self.gui.mode.value == mode_move:\n",
    "            # dx = x - self._x0_mouse\n",
    "            # dy = y - self._y0_mouse\n",
    "            # self._x0_mouse, self._y0_mouse = x, y \n",
    "            self._count_mouse += 1\n",
    "            # if self._count_mouse % 10 ==0:\n",
    "            if [o for o in self.objects_to_draw if o.selected]:\n",
    "                # with hold_canvas(self._canvas):\n",
    "                    # [o.add_x_y(dx, dy) for o in self.objects_to_draw if o.selected]\n",
    "                    [o.set_x_y(x, y) for o in self.objects_to_draw if o.selected]\n",
    "                    self.redraw()\n",
    "                    # self.canvas_restart()\n",
    "                    # [o.draw() for o in self.objects_to_draw]\n",
    "                    \n",
    "    def redraw(self):\n",
    "        self.canvas_restart()\n",
    "        with hold_canvas(self._canvas):\n",
    "            self.canvas_restart()\n",
    "            [o.draw() for o in self.objects_to_draw]\n",
    "                                   \n",
    "    def add_node(self, x, y, node):\n",
    "        n = self.script.flow.create_node(node)\n",
    "        print ('node: ', n.identifier, n.GLOBAL_ID)\n",
    "        # name = n.identifier.split('.')[-1].split('_')[0]\n",
    "        s = NodeGui(x, y, self, node=n) # , title=name)\n",
    "        s.set_selected(False)\n",
    "        self.objects_to_draw.append(s)\n",
    "\n",
    "        self.redraw()   \n",
    "        \n",
    "    def add_widget(self, x, y, widget):\n",
    "        if widget.parent is None:\n",
    "            widget.parent = self\n",
    "        self.objects_to_draw.append(widget)        \n",
    "    \n",
    "    def delete_selected(self):\n",
    "        for o in self.objects_to_draw:\n",
    "            if o.selected:\n",
    "                self.objects_to_draw.remove(o)\n",
    "        #TODO: remove connections        \n",
    "        self.redraw() "
   ]
  },
  {
   "cell_type": "code",
   "execution_count": null,
   "id": "faccb80f-dadb-4449-95be-eb0f6c10006c",
   "metadata": {
    "tags": []
   },
   "outputs": [],
   "source": [
    "class NodeGui:\n",
    "    def __init__(self, x, y, canvas_widget, node, selected=False):\n",
    "        self.x = x\n",
    "        self.y = y\n",
    "        self.width, self.height = canvas_widget._node_box_size\n",
    "        self.selected = selected\n",
    "        self.node = node\n",
    "        name = node.identifier.split('.')[-1].split('_')[0]\n",
    "        self.title = name\n",
    "        \n",
    "        # self.val = None\n",
    "        # if hasattr(node, 'val'):\n",
    "        #     self.val = node.val\n",
    "            \n",
    "        self.canvas_widget = canvas_widget\n",
    "        self.canvas = canvas_widget._canvas\n",
    "        \n",
    "        self.objects_to_draw = []\n",
    "\n",
    "    def set_x_y(self, x_in, y_in):\n",
    "        self.x = x_in\n",
    "        self.y = y_in\n",
    "        \n",
    "    def add_x_y(self, dx_in, dy_in):\n",
    "        self.x += dx_in\n",
    "        self.y += dy_in        \n",
    "        \n",
    "    def draw_title(self, title):\n",
    "        self.canvas.fill_style = self.canvas_widget._col_background\n",
    "        self.canvas.font = f'{self.canvas_widget._font_size}px serif'\n",
    "        self.canvas.fill_style = 'white'\n",
    "        x = self.x - (self.width * 0.49)\n",
    "        y = self.y - (self.height * 0.6),\n",
    "        self.canvas.fill_text(title, x, y)\n",
    "        \n",
    "    def draw_value(self, val):\n",
    "        self.canvas.fill_style = self.canvas_widget._col_background\n",
    "        self.canvas.font = f'{self.canvas_widget._font_size}px serif'\n",
    "        x = self.x - (self.width * 0.4)\n",
    "        y = self.y - (self.height * 0.01),\n",
    "        self.canvas.fill_text(val, x, y)        \n",
    "        \n",
    "    def draw_input(self):\n",
    "        self.canvas.fill_style = self.canvas_widget._col_background\n",
    "        x = self.x - (self.width * 0.5)\n",
    "        y = self.y - 0 * (self.height * 0.5)\n",
    "        self.x_in, self.y_in = x, y        \n",
    "        self.canvas.fill_style = 'blue'\n",
    "        self.canvas.fill_arc(x, y, 5, -np.pi/2, np.pi/2)      \n",
    "        \n",
    "    def draw_output(self):\n",
    "        self.canvas.fill_style = self.canvas_widget._col_background\n",
    "        x = self.x + (self.width * 0.5)\n",
    "        y = self.y - 0 * (self.height * 0.5)\n",
    "        self.x_out, self.y_out = x, y\n",
    "        self.canvas.fill_style = 'red'\n",
    "        self.canvas.fill_arc(x, y, 5, np.pi/2, 3 * np.pi/2)        \n",
    "\n",
    "    def draw(self):\n",
    "        self.canvas.fill_style = self.canvas_widget._col_node_header\n",
    "        self.canvas.fill_rect(\n",
    "            self.x - (self.width * 0.5), self.y - (self.height), self.width, self.height\n",
    "        )\n",
    "        if self.selected:\n",
    "            self.canvas.fill_style = self.canvas_widget._col_node_selected\n",
    "        else:\n",
    "            self.canvas.fill_style = self.canvas_widget._col_node_unselected\n",
    "        self.canvas.fill_rect(\n",
    "            self.x - (self.width * 0.5),\n",
    "            self.y - (self.height * 0.5),\n",
    "            self.width,\n",
    "            self.height,\n",
    "        )\n",
    "        self.draw_title(self.title)\n",
    "        if hasattr(self.node, 'val'):\n",
    "            if self.node.val is not None:\n",
    "                self.draw_value(self.node.val)\n",
    "        self.draw_input()\n",
    "        self.draw_output()\n",
    "        \n",
    "\n",
    "    def is_selected(self, x_in, y_in):\n",
    "        x_coord = self.x - (self.width * 0.5)\n",
    "        y_coord = self.y - (self.height * 0.5)\n",
    "\n",
    "        if (\n",
    "            x_in > x_coord\n",
    "            and x_in < (x_coord + self.width)\n",
    "            and y_in > y_coord\n",
    "            and y_in < (y_coord + self.height)\n",
    "        ):\n",
    "\n",
    "            return True\n",
    "        else:\n",
    "            return False\n",
    "\n",
    "    def set_selected(self, state):\n",
    "        self.selected = state  "
   ]
  },
  {
   "cell_type": "code",
   "execution_count": null,
   "id": "77da255c-ba69-4ccb-87e9-94a2ad357a07",
   "metadata": {
    "tags": []
   },
   "outputs": [],
   "source": [
    "class PortGui:\n",
    "    def __init__(self, x, y, parent, radius, ports, selected=False):\n",
    "        self.x = x\n",
    "        self.y = y\n",
    "        self.radius = radius\n",
    "        \n",
    "        # only needed to define selection box\n",
    "        self.width = radius\n",
    "        self.height = radius\n",
    "        \n",
    "        self.parent = parent\n",
    "        self.ports = ports\n",
    "        # self.width, self.height = canvas_widget._node_box_size\n",
    "        self.selected = selected\n",
    "        # self.node = node\n",
    "        # name = node.identifier.split('.')[-1].split('_')[0]\n",
    "        # self.title = name\n",
    "        \n",
    "        # self.val = None\n",
    "        # if hasattr(node, 'val'):\n",
    "        #     self.val = node.val\n",
    "            \n",
    "        self.canvas_widget = parent.canvas_widget\n",
    "        self.canvas = parent.canvas_widget._canvas\n",
    "        \n",
    "        self.objects_to_draw = []\n",
    "\n",
    "    def set_x_y(self, x_in, y_in):\n",
    "        self.x = x_in\n",
    "        self.y = y_in\n",
    "        \n",
    "    def add_x_y(self, dx_in, dy_in):\n",
    "        self.x += dx_in\n",
    "        self.y += dy_in        \n",
    "        \n",
    "    def draw_title(self, title):\n",
    "        self.canvas.fill_style = self.canvas_widget._col_background\n",
    "        self.canvas.font = f'{self.canvas_widget._font_size}px serif'\n",
    "        self.canvas.fill_style = 'white'\n",
    "        x = self.x - (self.width * 0.49)\n",
    "        y = self.y - (self.height * 0.6),\n",
    "        self.canvas.fill_text(title, x, y)\n",
    "        \n",
    "    def draw_value(self, val):\n",
    "        self.canvas.fill_style = self.canvas_widget._col_background\n",
    "        self.canvas.font = f'{self.canvas_widget._font_size}px serif'\n",
    "        x = self.x - (self.width * 0.4)\n",
    "        y = self.y - (self.height * 0.01),\n",
    "        self.canvas.fill_text(val, x, y)        \n",
    "        \n",
    "    def draw_ports(self):\n",
    "        self.canvas.fill_style = self.canvas_widget._col_background\n",
    "        n_ports = len(self.ports)\n",
    "        \n",
    "        x = self.x - (self.parent.width * 0.5)\n",
    "        if n_ports > 0:\n",
    "            i_y_vec = (np.arange(n_ports) - (n_ports-1)/2)\n",
    "            if len(i_y_vec) > 1:\n",
    "                i_y_vec /= np.max(i_y_vec)\n",
    "            # print (n_ports, y)\n",
    "        \n",
    "        for i_y in i_y_vec:\n",
    "            y = self.y - i_y * (self.parent.height * 0.5)\n",
    "            self.x_in, self.y_in = x, y        \n",
    "            self.canvas.fill_style = 'blue'\n",
    "            self.canvas.fill_circle(x, y, self.radius)      \n",
    "        \n",
    "    def draw_output(self):\n",
    "        self.canvas.fill_style = self.canvas_widget._col_background\n",
    "        x = self.x + (self.width * 0.5)\n",
    "        y = self.y - 0 * (self.height * 0.5)\n",
    "        self.x_out, self.y_out = x, y\n",
    "        self.canvas.fill_style = 'red'\n",
    "        self.canvas.fill_arc(x, y, 5, np.pi/2, 3 * np.pi/2)        \n",
    "\n",
    "    def draw(self):\n",
    "        self.canvas.fill_style = self.canvas_widget._col_node_header\n",
    "        self.canvas.fill_rect(\n",
    "            self.x - (self.width * 0.5), self.y - (self.height), self.width, self.height\n",
    "        )\n",
    "        if self.selected:\n",
    "            self.canvas.fill_style = self.canvas_widget._col_node_selected\n",
    "        else:\n",
    "            self.canvas.fill_style = self.canvas_widget._col_node_unselected\n",
    "        self.canvas.fill_rect(\n",
    "            self.x - (self.width * 0.5),\n",
    "            self.y - (self.height * 0.5),\n",
    "            self.width,\n",
    "            self.height,\n",
    "        )\n",
    "        self.draw_title(self.title)\n",
    "        if hasattr(self.node, 'val'):\n",
    "            if self.node.val is not None:\n",
    "                self.draw_value(self.node.val)\n",
    "        self.draw_input()\n",
    "        self.draw_output()\n",
    "        \n",
    "\n",
    "    def is_selected(self, x_in, y_in):\n",
    "        x_coord = self.x - (self.width * 0.5)\n",
    "        y_coord = self.y - (self.height * 0.5)\n",
    "\n",
    "        if (\n",
    "            x_in > x_coord\n",
    "            and x_in < (x_coord + self.width)\n",
    "            and y_in > y_coord\n",
    "            and y_in < (y_coord + self.height)\n",
    "        ):\n",
    "\n",
    "            return True\n",
    "        else:\n",
    "            return False\n",
    "\n",
    "    def set_selected(self, state):\n",
    "        self.selected = state  "
   ]
  },
  {
   "cell_type": "code",
   "execution_count": null,
   "id": "9b98fd41-5899-46a1-917f-860116d3561e",
   "metadata": {
    "tags": []
   },
   "outputs": [],
   "source": [
    "from ipywidgets import widgets, Layout\n",
    "w_button = widgets.GridBox()\n",
    "layout = Layout()\n",
    "layout=Layout(width='50', height='80px', color='blue')\n",
    "# w_button.style.button_color = 'green'\n",
    "# w_button.style.keys"
   ]
  },
  {
   "cell_type": "code",
   "execution_count": null,
   "id": "710087b4-c5b3-4b03-a5d6-7fdb17f4b121",
   "metadata": {},
   "outputs": [],
   "source": [
    "import copy\n",
    "\n",
    "class CanvasLayout:\n",
    "    def __init__(self, width=100, height=60, font_size=12, background_color='blue', selected_color='lightblue', font_color='black', font_title_color='white'):\n",
    "        self.width = width\n",
    "        self.height = height\n",
    "        self.background_color = background_color\n",
    "        self.selected_color = selected_color        \n",
    "        self.font_size = font_size\n",
    "        self.font_color = font_color\n",
    "        self.font_title_color = font_title_color\n",
    "\n",
    "        \n",
    "class BaseCanvasWidget:\n",
    "    def __init__(self, x, y, parent=None, layout=None, selected=False):\n",
    "        self._x = x  # relative to parent\n",
    "        self._y = y\n",
    "        \n",
    "        self.layout = layout \n",
    "\n",
    "        self.parent = parent\n",
    "        self.selected = selected\n",
    "        \n",
    "        self.objects_to_draw = []\n",
    "        \n",
    "    def _init_after_parent_assignment(self):\n",
    "        pass\n",
    "    \n",
    "    @property\n",
    "    def width(self):\n",
    "        return self.layout.width\n",
    "        \n",
    "    @property\n",
    "    def height(self):\n",
    "        return self.layout.height        \n",
    "    \n",
    "    @property\n",
    "    def x(self):\n",
    "        return self.parent.x + self._x  #- self.parent.width//2 \n",
    "    \n",
    "    @property\n",
    "    def y(self):\n",
    "        return self.parent.y + self._y #- self.parent.height//2     \n",
    "     \n",
    "    @property\n",
    "    def _canvas(self):\n",
    "        return self.parent._canvas\n",
    "        \n",
    "    def add_widget(self, widget):\n",
    "        if widget.parent is None:\n",
    "            widget.parent = self\n",
    "        if widget.layout is None:\n",
    "            widget.layout = self.parent.layout   \n",
    "            \n",
    "        self.objects_to_draw.append(widget)\n",
    "\n",
    "    def set_x_y(self, x_in, y_in):\n",
    "        self._x = x_in - self.width//2\n",
    "        self._y = y_in - self.height//2\n",
    "        \n",
    "    def add_x_y(self, dx_in, dy_in):\n",
    "        self._x += dx_in\n",
    "        self._y += dy_in        \n",
    "        \n",
    "    def draw_shape(self):\n",
    "        self._canvas.fill_style = self.layout.background_color\n",
    "        if self.selected:\n",
    "            self._canvas.fill_style = self.layout.selected_color\n",
    "        self._canvas.fill_rect(\n",
    "            self.x, # - (self.width * 0.5),\n",
    "            self.y, # - (self.height * 0.5),\n",
    "            self.width,\n",
    "            self.height,\n",
    "        ) \n",
    "        \n",
    "    def draw(self):\n",
    "        self.draw_shape()\n",
    "        for o in self.objects_to_draw:\n",
    "            o.draw()\n",
    "            \n",
    "    def _is_at_xy(self, x_in, y_in):\n",
    "        x_coord = self.x #- (self.width * 0.5)\n",
    "        y_coord = self.y #- (self.height * 0.5)\n",
    "\n",
    "        return (\n",
    "            x_in > x_coord\n",
    "            and x_in < (x_coord + self.width)\n",
    "            and y_in > y_coord\n",
    "            and y_in < (y_coord + self.height)\n",
    "            )\n",
    "        \n",
    "    def get_element_at_xy(self, x_in, y_in):\n",
    "        if self._is_at_xy(x_in, y_in):\n",
    "            for o in self.objects_to_draw:\n",
    "                if o.is_selected(x_in, y_in):\n",
    "                    return o.get_element_at_xy(x_in, y_in)\n",
    "            return self\n",
    "        else:\n",
    "            return None        \n",
    "        \n",
    "    def is_selected(self, x_in, y_in):\n",
    "        if self._is_at_xy(x_in, y_in):\n",
    "            return True\n",
    "        else:\n",
    "            return False\n",
    "\n",
    "    def set_selected(self, state):\n",
    "        self.selected = state "
   ]
  },
  {
   "cell_type": "markdown",
   "id": "feeaf178-f496-4134-8cf7-6e2282173adb",
   "metadata": {},
   "source": [
    "nodes object contains:\n",
    "-  title, inputs, outputs\n",
    "optional:\n",
    "-  val"
   ]
  },
  {
   "cell_type": "code",
   "execution_count": null,
   "id": "5deb525d-19ac-4323-9817-e345eba22c4b",
   "metadata": {},
   "outputs": [],
   "source": [
    "class NodeWidget(BaseCanvasWidget):\n",
    "    def __init__(self, x, y, node, parent=None, layout=None, selected=False, port_radius=10):\n",
    "        super().__init__(x, y, parent, layout, selected)\n",
    "        \n",
    "        self._title_box_height = 0.3  # ratio with respect to height\n",
    "        \n",
    "        self.node = node\n",
    "        self.title = node.title\n",
    "        if hasattr(node, 'val'):\n",
    "            self.value = node.val\n",
    "        else:\n",
    "            self.value = None\n",
    "        self.inputs = node.inputs\n",
    "        self.outputs = node.outputs\n",
    "        \n",
    "        self.port_radius = port_radius\n",
    "        self.layout_ports = CanvasLayout(width=20, height=10, background_color='brown', selected_color='red')\n",
    "\n",
    "        self.add_inputs()\n",
    "        self.add_outputs()\n",
    "        \n",
    "    def draw_title(self, title):\n",
    "        \n",
    "        self._canvas.fill_style = 'blue'\n",
    "        self._canvas.fill_rect(\n",
    "            self.x, self.y, self.width, self.height * self._title_box_height\n",
    "        )\n",
    "        self._canvas.font = f'{self.layout.font_size}px serif'\n",
    "        self._canvas.fill_style = self.layout.font_title_color\n",
    "        x = self.x + (self.width * 0.04)\n",
    "        y = self.y + (self.height * 0.25),\n",
    "        self._canvas.fill_text(title, x, y)\n",
    "        \n",
    "    def draw_value(self, val):\n",
    "        self._canvas.fill_style = self.layout.font_color\n",
    "        self._canvas.font = f'{self.layout.font_size}px serif'\n",
    "        x = self.x + (self.width * 0.3)\n",
    "        y = self.y + (self.height * 0.65),\n",
    "        self._canvas.fill_text(val, x, y)  \n",
    "        \n",
    "    def _add_ports(self, radius, inputs=None, outputs=None, border=1.4):\n",
    "        if inputs is not None:\n",
    "            x = radius * border\n",
    "            data = inputs\n",
    "        elif outputs is not None:\n",
    "            x = self.width - radius * border\n",
    "            data = outputs\n",
    "        else:\n",
    "            return\n",
    "\n",
    "        n_ports = len(data)\n",
    "        \n",
    "        y_min = self.height * self._title_box_height\n",
    "        d_y = self.height - y_min\n",
    "        \n",
    "        if n_ports > 0:\n",
    "            i_y_vec = (np.arange(n_ports) + 1/2)/n_ports\n",
    "\n",
    "            for y_port in i_y_vec:\n",
    "                self.add_widget(PortWidget(x, y_port * d_y + y_min, radius=radius, parent=self, layout=self.layout_ports))        \n",
    "        \n",
    "    def add_inputs(self):\n",
    "        self._add_ports(radius=self.port_radius, inputs=self.inputs)\n",
    "                \n",
    "    def add_outputs(self, radius=5):\n",
    "        self._add_ports(radius=self.port_radius, outputs=self.outputs)\n",
    "                     \n",
    "    def draw(self):\n",
    "        super().draw()\n",
    "        if self.title is not None:\n",
    "            self.draw_title(self.title)\n",
    "        if self.value is not None:    \n",
    "            self.draw_value(self.value)\n",
    "            \n",
    "        for o in self.objects_to_draw:\n",
    "            o.draw()     \n",
    "        "
   ]
  },
  {
   "cell_type": "code",
   "execution_count": null,
   "id": "e2aedd4c-2e1f-4fa1-aee4-2f3e441f5b65",
   "metadata": {},
   "outputs": [],
   "source": [
    "class PortWidget(BaseCanvasWidget):\n",
    "    def __init__(self, x, y, radius=10, parent=None, layout=None, selected=False):\n",
    "        super().__init__(x, y, parent, layout, selected)\n",
    "        \n",
    "        self.radius = radius       \n",
    "        \n",
    "    def draw_shape(self):\n",
    "        self._canvas.fill_style = self.layout.background_color\n",
    "        if self.selected:\n",
    "            self._canvas.fill_style = self.layout.selected_color\n",
    "        self._canvas.fill_circle(self.x, self.y, self.radius)   \n",
    "        \n",
    "    def _is_at_xy(self, x_in, y_in):\n",
    "        x_coord = self.x - self.radius\n",
    "        y_coord = self.y - self.radius\n",
    "\n",
    "        return (\n",
    "            x_in > x_coord\n",
    "            and x_in < (x_coord + 2 * self.radius)\n",
    "            and y_in > y_coord\n",
    "            and y_in < (y_coord + 2 * self.radius)\n",
    "            )        \n",
    "        "
   ]
  },
  {
   "cell_type": "code",
   "execution_count": null,
   "id": "3c269abc-80e2-4cb5-a454-fec22132c516",
   "metadata": {},
   "outputs": [],
   "source": [
    "co = CanvasObject()\n",
    "layout = CanvasLayout(font_size=20, width=200, height=100, background_color='gray', selected_color='green')\n",
    "\n",
    "bcw = NodeWidget(400, 200, nn, layout=layout) #, title='Test', value='val=10', inputs=[1,2], outputs=[1])\n",
    "\n",
    "layout = CanvasLayout(width=20, height=10, background_color='brown', selected_color='red')\n",
    "\n",
    "bcw.add_widget(BaseCanvasWidget(180, 10, layout=layout))\n",
    "# bcw.add_widget(PortWidget(0, 0, radius=20, layout=layout))\n",
    "\n",
    "co.add_widget(400, 200, bcw)\n",
    "bcw.draw()\n",
    "\n",
    "co._canvas"
   ]
  },
  {
   "cell_type": "code",
   "execution_count": null,
   "id": "73f3bf32-34ce-424c-af83-a53d558983a9",
   "metadata": {},
   "outputs": [],
   "source": [
    "inp1 = nn.inputs[0]\n",
    "inp1.data()"
   ]
  },
  {
   "cell_type": "code",
   "execution_count": null,
   "id": "e09bc54d-757f-42d2-a7b7-0e22cf1b563e",
   "metadata": {},
   "outputs": [],
   "source": []
  },
  {
   "cell_type": "code",
   "execution_count": null,
   "id": "36f27ec5-4184-4afd-a624-7a85d4d5580d",
   "metadata": {},
   "outputs": [],
   "source": [
    "co.objects_to_draw[0].objects_to_draw[-1].draw()"
   ]
  },
  {
   "cell_type": "code",
   "execution_count": null,
   "id": "a78584bf-3810-4450-8e54-cd61eb838d12",
   "metadata": {},
   "outputs": [],
   "source": [
    "%%time\n",
    "co.handle_mouse_down(300, 100)\n",
    "co.redraw()"
   ]
  },
  {
   "cell_type": "code",
   "execution_count": null,
   "id": "33e718be-92d2-4dca-bdab-2423782fa590",
   "metadata": {},
   "outputs": [],
   "source": [
    "from ipycanvas import Canvas, hold_canvas\n",
    "\n",
    "co = CanvasObject()\n",
    "s = NodeGui(200, 200, co, node=nn)\n",
    "co.objects_to_draw.append(s)\n",
    "s.draw()\n",
    "# co.add_node(200, 200, nn)\n",
    "co._canvas"
   ]
  },
  {
   "cell_type": "code",
   "execution_count": null,
   "id": "fa806dbe-3d78-4371-a78f-acbcc28cefe6",
   "metadata": {},
   "outputs": [],
   "source": [
    "pg = PortGui(200, 200, co.objects_to_draw[0], 10, ports=[0,1,2])\n",
    "pg.draw_ports()\n"
   ]
  },
  {
   "cell_type": "code",
   "execution_count": null,
   "id": "77b7ffc3-b833-482f-98ae-1d8afab3d3d8",
   "metadata": {},
   "outputs": [],
   "source": [
    "pg.objects_to_draw[0].is_selected(200, 200)"
   ]
  },
  {
   "cell_type": "code",
   "execution_count": null,
   "id": "7f9c8b4e-a6ed-4e29-9798-780073386c91",
   "metadata": {},
   "outputs": [],
   "source": [
    "pg.parent.canvas_widget._canvas.fill_circle(200, 400, 20)"
   ]
  },
  {
   "cell_type": "code",
   "execution_count": null,
   "id": "ef1d0feb-afbe-4d68-ab79-0c8133bd104e",
   "metadata": {},
   "outputs": [],
   "source": [
    "s = NodeGui(200, 200, co, node=nn)\n",
    "s"
   ]
  },
  {
   "cell_type": "code",
   "execution_count": null,
   "id": "996ae855-55f1-4bc0-81ea-d2de098eadda",
   "metadata": {},
   "outputs": [],
   "source": [
    "from ipycanvas import Canvas\n",
    "\n",
    "canvas = Canvas(size=(320, 360))\n",
    "canvas.fill_circles??"
   ]
  },
  {
   "cell_type": "code",
   "execution_count": null,
   "id": "1ca7aa50-ab96-47b2-bfbc-9167ea8081a5",
   "metadata": {},
   "outputs": [],
   "source": [
    "from ipycanvas import Canvas\n",
    "\n",
    "canvas = Canvas(size=(320, 360))\n",
    "\n",
    "# Possible line_cap values\n",
    "line_caps = ['butt', 'round', 'square']\n",
    "\n",
    "canvas.scale(2)\n",
    "\n",
    "# Draw guides\n",
    "canvas.stroke_style = '#09f'\n",
    "canvas.begin_path()\n",
    "canvas.move_to(10, 30)\n",
    "canvas.line_to(140, 30)\n",
    "canvas.move_to(10, 140)\n",
    "canvas.line_to(140, 140)\n",
    "canvas.stroke()\n",
    "\n",
    "# Draw lines\n",
    "canvas.stroke_style = 'black'\n",
    "canvas.font = '15px serif'\n",
    "\n",
    "for i in range(len(line_caps)):\n",
    "    line_cap = line_caps[i]\n",
    "    x = 25 + i * 50\n",
    "\n",
    "    canvas.fill_text(line_cap, x - 15, 15)\n",
    "    canvas.line_width = 15\n",
    "    canvas.line_cap = line_cap\n",
    "    canvas.begin_path()\n",
    "    canvas.move_to(x, 30)\n",
    "    canvas.line_to(x, 140)\n",
    "    canvas.stroke()\n",
    "\n",
    "canvas"
   ]
  },
  {
   "cell_type": "code",
   "execution_count": null,
   "id": "eee8d290-3f40-47c7-b941-b8f01b015acc",
   "metadata": {},
   "outputs": [],
   "source": [
    "import numpy as np\n",
    "\n",
    "from ipycanvas import Canvas\n",
    "\n",
    "n_particles = 75_000\n",
    "\n",
    "x = np.array(np.random.rayleigh(350, n_particles), dtype=np.int32)\n",
    "y = np.array(np.random.rayleigh(150, n_particles), dtype=np.int32)\n",
    "size = np.random.randint(1, 3, n_particles)\n",
    "\n",
    "canvas = Canvas(size=(1000, 500))\n",
    "\n",
    "canvas.fill_style = 'green'\n",
    "canvas.fill_rects(x, y, size)\n",
    "\n",
    "canvas"
   ]
  },
  {
   "cell_type": "code",
   "execution_count": null,
   "id": "af2659eb-ffda-4969-b23a-d76c98fd50c9",
   "metadata": {},
   "outputs": [],
   "source": [
    "from ipycanvas import MultiCanvas\n",
    "\n",
    "# Create a multi-layer canvas with 2 layers\n",
    "multi_canvas = MultiCanvas(2, size=(165, 115))\n",
    "multi_canvas[0] #  Access first layer (background)\n",
    "multi_canvas[0].fill_style = 'lime'\n",
    "multi_canvas[0].stroke_style = 'green'\n",
    "multi_canvas[0].fill_rect(10, 20, 100, 50)\n",
    "multi_canvas[0].stroke_rect(10, 20, 100, 50)\n",
    "\n",
    "multi_canvas[1] #  Access last layer\n",
    "multi_canvas[1].fill_style = 'red'\n",
    "multi_canvas[1].stroke_style = 'brown'\n",
    "multi_canvas[1].fill_rect(55, 45, 100, 50)\n",
    "multi_canvas[1].stroke_rect(55, 45, 100, 50)\n",
    "multi_canvas\n",
    "\n",
    "\n"
   ]
  },
  {
   "cell_type": "code",
   "execution_count": null,
   "id": "891973a1-afdf-4d66-87d9-9313d52ef11a",
   "metadata": {},
   "outputs": [],
   "source": [
    "from ipycanvas import Canvas\n",
    "\n",
    "canvas = Canvas(size=(165, 115))\n",
    "\n",
    "canvas.fill_style = 'lime'\n",
    "canvas.stroke_style = 'brown'\n",
    "\n",
    "canvas.fill_rect(10, 20, 100, 50)\n",
    "canvas.clear_rect(52, 42, 100, 50)\n",
    "canvas.stroke_rect(55, 45, 100, 50)\n",
    "\n",
    "canvas\n",
    "\n"
   ]
  },
  {
   "cell_type": "code",
   "execution_count": null,
   "id": "96509950-a67d-480a-a61f-c5ff309fa588",
   "metadata": {},
   "outputs": [],
   "source": [
    "import ipywidgets as widgets\n",
    "\n",
    "debug_view = widgets.Output(layout={'border': '1px solid black'})\n",
    "\n",
    "@debug_view.capture(clear_output=True)\n",
    "def bad_callback(event):\n",
    "    print('This is about to explode')\n",
    "    return 1.0 / 0.0\n",
    "\n",
    "button = widgets.Button(\n",
    "    description='click me to raise an exception',\n",
    "    layout={'width': '300px'}\n",
    ")\n",
    "button.on_click(bad_callback)\n",
    "button\n",
    "\n"
   ]
  },
  {
   "cell_type": "code",
   "execution_count": null,
   "id": "64e3af7e-9aeb-4848-95e6-69bc81213e11",
   "metadata": {},
   "outputs": [],
   "source": [
    "debug_view"
   ]
  },
  {
   "cell_type": "code",
   "execution_count": null,
   "id": "2518e7bc-e171-4dee-b09b-2c284a0e67f4",
   "metadata": {},
   "outputs": [],
   "source": []
  }
 ],
 "metadata": {
  "kernelspec": {
   "display_name": "Python 3 (ipykernel)",
   "language": "python",
   "name": "python3"
  },
  "language_info": {
   "codemirror_mode": {
    "name": "ipython",
    "version": 3
   },
   "file_extension": ".py",
   "mimetype": "text/x-python",
   "name": "python",
   "nbconvert_exporter": "python",
   "pygments_lexer": "ipython3",
   "version": "3.9.12"
  }
 },
 "nbformat": 4,
 "nbformat_minor": 5
}
