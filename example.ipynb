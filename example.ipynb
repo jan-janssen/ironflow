{
 "cells": [
  {
   "cell_type": "markdown",
   "id": "18e99e8d-4818-440e-9b47-1f0d80e18214",
   "metadata": {},
   "source": [
    "We can import the gui and instantiate a new session. If there is a saved session with the same name, it will be automatically loaded. To see the gui, use the `.draw()` method."
   ]
  },
  {
   "cell_type": "code",
   "execution_count": 1,
   "id": "a0a60e2d",
   "metadata": {},
   "outputs": [],
   "source": [
    "%matplotlib inline\n",
    "from ironflow import GUI"
   ]
  },
  {
   "cell_type": "code",
   "execution_count": 2,
   "id": "e8da0476-4a99-4da3-8fe3-e12c646893e8",
   "metadata": {},
   "outputs": [
    {
     "data": {
      "application/vnd.jupyter.widget-view+json": {
       "model_id": "9168bb0264ef413283bcf16576a20181",
       "version_major": 2,
       "version_minor": 0
      },
      "text/plain": []
     },
     "metadata": {},
     "output_type": "display_data"
    },
    {
     "name": "stdout",
     "output_type": "stream",
     "text": [
      "Loaded session data for example\n"
     ]
    }
   ],
   "source": [
    "gui = GUI('example')"
   ]
  },
  {
   "cell_type": "code",
   "execution_count": 3,
   "id": "08ae0940-638e-4dde-a226-b15ea0a28230",
   "metadata": {},
   "outputs": [
    {
     "data": {
      "application/vnd.jupyter.widget-view+json": {
       "model_id": "6ed3fcb66dde4bf28883a4372df5fa9b",
       "version_major": 2,
       "version_minor": 0
      },
      "text/plain": [
       "VBox(children=(HBox(children=(Dropdown(layout=Layout(width='80px'), options=('data', 'exec'), value='data'), B…"
      ]
     },
     "metadata": {},
     "output_type": "display_data"
    }
   ],
   "source": [
    "gui.draw()"
   ]
  },
  {
   "cell_type": "markdown",
   "id": "c1e40729-7e9d-42a4-be91-de1e311241fb",
   "metadata": {},
   "source": [
    "We can also extend ironflow with new nodes on-the-fly. Most of the tools you should need are stored under `ironflow.custom_nodes`. Once we register a new node from a notebook, it immediately shows up under the `__main__` tab in the node selector."
   ]
  },
  {
   "cell_type": "code",
   "execution_count": 4,
   "id": "a9336fda-a194-4b59-a912-6019e000d579",
   "metadata": {},
   "outputs": [],
   "source": [
    "from ironflow.custom_nodes import Node, NodeInputBP, NodeOutputBP, dtypes, input_widgets\n",
    "\n",
    "class My_Node(Node):\n",
    "    title = \"MyUserNode\"\n",
    "    init_inputs = [\n",
    "        NodeInputBP(dtype=dtypes.Integer(default=1), label=\"foo\")\n",
    "    ]\n",
    "    init_outputs = [\n",
    "       NodeOutputBP(label=\"bar\")\n",
    "    ]\n",
    "    color = 'cyan'\n",
    "\n",
    "    def update_event(self, inp=-1):\n",
    "        self.set_output_val(0, self.input(0) + 42)\n",
    "\n",
    "gui.register_node(My_Node)"
   ]
  },
  {
   "cell_type": "markdown",
   "id": "f62462ef-a1ea-4e43-8c9f-a78c1b91a75e",
   "metadata": {},
   "source": [
    "If we save a session with a custom node, the same node needs to registered again *before* we load that session! To instantiate and load such a saved session all at once, extra node packages can be included using the optional `extra_node_packages` argument. This takes a `list` of node packages, which should either be a list of nodes that are children of `Node` (as in the example below) -- these appear under `__main__` in the gui, or a python module or path to a .py file. When registering nodes from a module or file, only those that inherit from `Node` *and* have a class name ending in `_Node` will be registered (this allows you to have your own node class templates and avoid loading the template itself by simply using regular python CamelCase naming conventions and avoiding ending in `_Node`). "
   ]
  },
  {
   "cell_type": "code",
   "execution_count": 5,
   "id": "7f753105-1669-4163-a338-6b7887b820b2",
   "metadata": {},
   "outputs": [
    {
     "name": "stdout",
     "output_type": "stream",
     "text": [
      "No session data found for example_with_custom_node, making a new script.\n"
     ]
    }
   ],
   "source": [
    "gui2 = GUI(\"example_with_custom_node\", extra_nodes_packages=[[My_Node]])"
   ]
  },
  {
   "cell_type": "code",
   "execution_count": 6,
   "id": "61bd0c78-a148-483a-b232-f1e51e2ef2d7",
   "metadata": {},
   "outputs": [
    {
     "data": {
      "application/vnd.jupyter.widget-view+json": {
       "model_id": "4fa0213eeaa54243b6493c8f64e7dfdf",
       "version_major": 2,
       "version_minor": 0
      },
      "text/plain": [
       "VBox(children=(HBox(children=(Dropdown(layout=Layout(width='80px'), options=('data', 'exec'), value='data'), B…"
      ]
     },
     "metadata": {},
     "output_type": "display_data"
    }
   ],
   "source": [
    "gui2.draw()"
   ]
  },
  {
   "cell_type": "markdown",
   "id": "e194ae29-1c44-4f6b-a95d-305f48383c80",
   "metadata": {},
   "source": [
    "Note: When registering nodes from a module or file, they appear in the tab based on the end of the module/file path (excluding the .py convention). This is intentional since nodes from multiple sources may be conceptually linked, so they get grouped with every other node that has the same location terminus, but it's possible it could lead to naming conflicts. You're already able to override this with the underlying `GUI.register_nodes` method, which allows you to specify your own location using the optional `node_group` argument. In a future update we plan to provide the same capability when registering nodes at initialization."
   ]
  },
  {
   "cell_type": "code",
   "execution_count": null,
   "id": "9601919f-9011-4ecc-9b93-4c1a6ed45ef7",
   "metadata": {},
   "outputs": [],
   "source": []
  }
 ],
 "metadata": {
  "kernelspec": {
   "display_name": "Python 3",
   "language": "python",
   "name": "python3"
  },
  "language_info": {
   "codemirror_mode": {
    "name": "ipython",
    "version": 3
   },
   "file_extension": ".py",
   "mimetype": "text/x-python",
   "name": "python",
   "nbconvert_exporter": "python",
   "pygments_lexer": "ipython3",
   "version": "3.8.8"
  }
 },
 "nbformat": 4,
 "nbformat_minor": 5
}
