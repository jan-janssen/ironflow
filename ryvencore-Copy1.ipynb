{
 "cells": [
  {
   "cell_type": "markdown",
   "id": "600304ac-127e-425f-8027-8d065d0a4766",
   "metadata": {},
   "source": [
    "# Jupyter GUI for ryven"
   ]
  },
  {
   "cell_type": "markdown",
   "id": "d503efd7-2846-4de8-b7c5-ce599b973ac4",
   "metadata": {},
   "source": [
    "## Import and setup ryven"
   ]
  },
  {
   "cell_type": "markdown",
   "id": "78b7726d-7cf2-40cd-abaa-2fcf45d46e35",
   "metadata": {},
   "source": [
    "TODO: clean up and polish"
   ]
  },
  {
   "cell_type": "code",
   "execution_count": 1,
   "id": "87e2cbc1-e16f-4c0e-a179-6eae31631274",
   "metadata": {},
   "outputs": [],
   "source": [
    "import ryvencore as rc\n",
    "import json\n",
    "import os"
   ]
  },
  {
   "cell_type": "code",
   "execution_count": 2,
   "id": "9b8accac-7ad1-4064-99b5-9ee55674bb51",
   "metadata": {},
   "outputs": [],
   "source": [
    "from ryven.main.utils import import_nodes_package, load_from_file\n",
    "\n",
    "os.environ['RYVEN_MODE'] = 'no-gui'"
   ]
  },
  {
   "cell_type": "code",
   "execution_count": 3,
   "id": "f5d6dda8-26c2-4bf8-bf6a-4b39e3419a64",
   "metadata": {},
   "outputs": [],
   "source": [
    "from os.path import basename, dirname, splitext, normpath, join\n",
    "\n",
    "class NodesPackage:\n",
    "    \"\"\"\n",
    "    A small container to store meta data about imported node packages.\n",
    "    \"\"\"\n",
    "\n",
    "    def __init__(self, directory: str):\n",
    "\n",
    "        self.name = basename(normpath(directory))\n",
    "        self.directory = directory\n",
    "\n",
    "        self.file_path = normpath(join(directory, 'nodes.py'))\n",
    "\n",
    "    def config_data(self):\n",
    "        return {\n",
    "            'name': self.name,\n",
    "            'dir': self.directory,\n",
    "        }"
   ]
  },
  {
   "cell_type": "code",
   "execution_count": 4,
   "id": "dab854ab-5b56-44bc-964e-d13c00a9c30c",
   "metadata": {},
   "outputs": [],
   "source": [
    "import ryven.NENV as NENV\n",
    "NENV.init_node_env()"
   ]
  },
  {
   "cell_type": "code",
   "execution_count": 5,
   "id": "aa47149c-3c4e-40d2-b4b9-2c7f9bf33234",
   "metadata": {},
   "outputs": [],
   "source": [
    "# from ryven.std.special_nodes import nodes as special_nodes"
   ]
  },
  {
   "cell_type": "code",
   "execution_count": 6,
   "id": "e4808c15-6e85-4c0c-83cd-6d4e92302746",
   "metadata": {},
   "outputs": [],
   "source": [
    "packages = ['ryven/std', 'ryven/nodes/built_in/']"
   ]
  },
  {
   "cell_type": "code",
   "execution_count": 7,
   "id": "12ae4fd0-57d1-4633-8136-1b55fdc84cd3",
   "metadata": {},
   "outputs": [],
   "source": [
    "session = rc.Session()\n",
    "for package in packages:\n",
    "    session.register_nodes(\n",
    "        import_nodes_package(\n",
    "            NodesPackage(\n",
    "                directory=package \n",
    "            )\n",
    "        )\n",
    "    )"
   ]
  },
  {
   "cell_type": "code",
   "execution_count": 8,
   "id": "82ad78ac-9ae3-4f3e-bca8-fc712c0fb1b7",
   "metadata": {},
   "outputs": [],
   "source": [
    "# session = rc.Session()\n",
    "# session.register_nodes(\n",
    "#     import_nodes_package(\n",
    "#         NodesPackage(\n",
    "#             directory='ryven/std' \n",
    "#         )\n",
    "#     )\n",
    "# )\n",
    "# session.nodes[0].identifier"
   ]
  },
  {
   "cell_type": "code",
   "execution_count": 9,
   "id": "569abe35-431a-4ea0-8e30-ffb05ee2f34f",
   "metadata": {},
   "outputs": [],
   "source": [
    "# session.register_nodes(\n",
    "#     import_nodes_package(\n",
    "#         NodesPackage(\n",
    "#             directory='ryven/nodes/built_in/'\n",
    "#         )\n",
    "#     )\n",
    "# )\n",
    "# # session.nodes"
   ]
  },
  {
   "cell_type": "markdown",
   "id": "03866641-cee1-486d-b6ea-c9c7afb44af0",
   "metadata": {},
   "source": [
    "### Load original ryven workflow"
   ]
  },
  {
   "cell_type": "code",
   "execution_count": 10,
   "id": "493d4896-ab8a-422c-a1c3-1f63b850c9fc",
   "metadata": {},
   "outputs": [],
   "source": [
    "fpath = 'basics.json'\n",
    "with open(fpath, 'r') as f:\n",
    "        project: dict = json.loads(f.read())"
   ]
  },
  {
   "cell_type": "code",
   "execution_count": 11,
   "id": "f97cf916-32a7-40c2-a224-9df9456647cc",
   "metadata": {},
   "outputs": [],
   "source": [
    "session.load(project);"
   ]
  },
  {
   "cell_type": "code",
   "execution_count": 12,
   "id": "8ec9052f-0f01-4b5b-8d69-a14961fa4874",
   "metadata": {},
   "outputs": [
    {
     "data": {
      "text/plain": [
       "'std.Storage_Node'"
      ]
     },
     "execution_count": 12,
     "metadata": {},
     "output_type": "execute_result"
    }
   ],
   "source": [
    "script0 = session.scripts[0]\n",
    "node0 = script0.flow.nodes[0]\n",
    "node0.identifier"
   ]
  },
  {
   "cell_type": "code",
   "execution_count": 13,
   "id": "b6a62205-7fd4-411a-9c50-0cb830720fb9",
   "metadata": {},
   "outputs": [
    {
     "name": "stdout",
     "output_type": "stream",
     "text": [
      "std.Storage_Node 7\n",
      "std.Eval_Node 10\n",
      "built_in.Result_Node 13\n",
      "std.Slider_Node 15\n",
      "built_in.Result_Node 19\n",
      "built_in.SetVar_Node 21\n",
      "built_in.GetVar_Node 25\n",
      "std.Clock_Node 28\n",
      "built_in.SetVar_Node 32\n",
      "built_in.GetVar_Node 38\n",
      "std.Plus_Node 41\n",
      "std.LinkIN_Node 45\n"
     ]
    }
   ],
   "source": [
    "for n in script0.flow.nodes:\n",
    "    print (n.identifier, n.GLOBAL_ID)"
   ]
  },
  {
   "cell_type": "code",
   "execution_count": 14,
   "id": "29018de3-6130-4f57-b381-72d1c1905248",
   "metadata": {},
   "outputs": [
    {
     "name": "stdout",
     "output_type": "stream",
     "text": [
      "21 7\n",
      "13 10\n",
      "19 15\n",
      "45 15\n",
      "10 25\n",
      "32 28\n",
      "7 38\n",
      "41 38\n",
      "32 41\n"
     ]
    }
   ],
   "source": [
    "for c in script0.flow.connections:\n",
    "    print (c.inp.node.GLOBAL_ID, c.out.node.GLOBAL_ID)"
   ]
  },
  {
   "cell_type": "code",
   "execution_count": 15,
   "id": "51b70e0a-0da4-4884-8740-5e43d685e675",
   "metadata": {},
   "outputs": [
    {
     "data": {
      "text/plain": [
       "''"
      ]
     },
     "execution_count": 15,
     "metadata": {},
     "output_type": "execute_result"
    }
   ],
   "source": [
    "input0 = node0.inputs[0]\n",
    "input0.label_str"
   ]
  },
  {
   "cell_type": "code",
   "execution_count": 16,
   "id": "7c1af853-f351-46b7-9193-ee961f3d86a5",
   "metadata": {},
   "outputs": [
    {
     "data": {
      "text/plain": [
       "(9, 12)"
      ]
     },
     "execution_count": 16,
     "metadata": {},
     "output_type": "execute_result"
    }
   ],
   "source": [
    "node0 = script0.flow.nodes[0]\n",
    "len(script0.flow.connections), len(script0.flow.nodes)"
   ]
  },
  {
   "cell_type": "markdown",
   "id": "d490620d-86e4-4643-a662-2dd6c792fd14",
   "metadata": {},
   "source": [
    "#### Remove node example"
   ]
  },
  {
   "cell_type": "markdown",
   "id": "00b94406-f7e9-4dd8-9f40-609848ee310a",
   "metadata": {},
   "source": [
    "Note: Requires still removal/update of connections"
   ]
  },
  {
   "cell_type": "code",
   "execution_count": 17,
   "id": "d1c1842b-af14-4657-b00f-652f3a5f0da9",
   "metadata": {},
   "outputs": [],
   "source": [
    "# script0.flow.remove_node(node0)\n",
    "# script0.flow.nodes"
   ]
  },
  {
   "cell_type": "code",
   "execution_count": 18,
   "id": "1d1b5625-d20b-4852-ac7b-883e87f5e4f5",
   "metadata": {},
   "outputs": [
    {
     "name": "stdout",
     "output_type": "stream",
     "text": [
      "7 21\n",
      "10 13\n",
      "15 19\n",
      "15 45\n",
      "25 10\n",
      "28 32\n",
      "38 7\n",
      "38 41\n",
      "41 32\n"
     ]
    }
   ],
   "source": [
    "for c in script0.flow.connections:\n",
    "# con0 = script0.flow.connections[0]\n",
    "    print (c.out.node.GLOBAL_ID, c.inp.node.GLOBAL_ID)"
   ]
  },
  {
   "cell_type": "markdown",
   "id": "5ddbd029-d660-4fef-b7cf-09e8efbd3bff",
   "metadata": {},
   "source": [
    "#### Load information rearding gui directly from json"
   ]
  },
  {
   "cell_type": "code",
   "execution_count": 19,
   "id": "1d74638f-4ccc-4fa0-b8ff-07e3d39498ba",
   "metadata": {},
   "outputs": [],
   "source": [
    "import json\n",
    " \n",
    "# Opening JSON file\n",
    "with open('basics.json') as f:\n",
    "    data = json.load(f)"
   ]
  },
  {
   "cell_type": "code",
   "execution_count": 20,
   "id": "cd00cb56-2419-4da0-ab1a-21f171a509c8",
   "metadata": {},
   "outputs": [
    {
     "name": "stdout",
     "output_type": "stream",
     "text": [
      "Storage 475.4795814751692 264.55248052403067\n",
      "Eval 462.86363383615935 370.17323807221123\n",
      "Result 796.5680046166863 369.6301042263301\n",
      "Slider 273.19774517706185 503.4372312306748\n",
      "Result 571.2515010942456 555.0662156323955\n",
      "SetVar 724.2936205842011 249.9898748171978\n",
      "GetVar 164.80323966981427 368.23084671814206\n",
      "Clock 231.23622828581165 114.6139516414438\n",
      "SetVar 846.1910218628586 133.30644603168525\n",
      "GetVar 196.31117068512344 265.7809649154535\n",
      "Plus 585.6887913914879 174.51150293252385\n",
      "LinkIN 566.7044488232787 478.94789784811906\n"
     ]
    }
   ],
   "source": [
    "for n in data['scripts'][0]['flow']['nodes']:\n",
    "    name = n['identifier'].split('.')[-1].split('_')[0]\n",
    "    x = n['pos x']\n",
    "    y = n['pos y']\n",
    "    print (name, x, y)\n"
   ]
  },
  {
   "cell_type": "markdown",
   "id": "3b7ed81d-1e51-48b0-a985-42ec5e105668",
   "metadata": {},
   "source": [
    "## Jupyter GUI"
   ]
  },
  {
   "cell_type": "code",
   "execution_count": 21,
   "id": "d67e255f-b735-4147-9edf-f7d9ee06278f",
   "metadata": {},
   "outputs": [],
   "source": [
    "from ipycanvas import Canvas, hold_canvas\n",
    "import numpy as np\n",
    "\n",
    "import ipywidgets as widgets"
   ]
  },
  {
   "cell_type": "code",
   "execution_count": 22,
   "id": "818bee08-4c33-4f23-ab2d-56f623b9b6af",
   "metadata": {},
   "outputs": [],
   "source": [
    "class canvas_widget:\n",
    "    def __init__(self, gui=None, width=2000, height=1000, script=None):\n",
    "        self.gui = gui\n",
    "        self.script = script\n",
    "        self._width, self._height = width, height\n",
    "\n",
    "        self._col_background = \"black\" # \"#584f4e\"\n",
    "        self._col_node_header = \"blue\" #\"#38a8a4\"\n",
    "        self._col_node_selected = \"#9dcea6\"\n",
    "        self._col_node_unselected = \"#dee7bc\"\n",
    "        \n",
    "        self._font_size = 30\n",
    "        self._node_box_size = 160, 70\n",
    "\n",
    "        self._canvas = Canvas(width=width, height=height)\n",
    "        self._canvas.fill_style = self._col_background\n",
    "        self._canvas.fill_rect(0, 0, width, height)\n",
    "        self._canvas.layout.width = '100%'\n",
    "        self._canvas.layout.height = 'auto'\n",
    "\n",
    "        self.objects_to_draw = []\n",
    "        self.connections = []\n",
    "        \n",
    "        self._canvas.on_mouse_down(self.handle_mouse_down)\n",
    "        self._canvas.on_mouse_move(self.handle_mouse_move)        \n",
    "        \n",
    "    def draw_connection(self, path=[0, 1]):\n",
    "        i_out, i_in = path\n",
    "        out = self.objects_to_draw[i_out]\n",
    "        inp = self.objects_to_draw[i_in]\n",
    "\n",
    "        canvas = self._canvas\n",
    "        canvas.stroke_style = 'white' \n",
    "        canvas.line_width = 3\n",
    "        canvas.move_to(out.x_out, out.y_out)\n",
    "        canvas.line_to(inp.x_in, inp.y_in)\n",
    "        canvas.stroke()\n",
    "    \n",
    "    def canvas_restart(self):\n",
    "        self._canvas.clear()\n",
    "        self._canvas.fill_style = self._col_background\n",
    "        self._canvas.fill_rect(0, 0, self._width, self._height)\n",
    "\n",
    "    def handle_mouse_down(self, x, y):\n",
    "        if [o for o in self.objects_to_draw if o.selected]:\n",
    "            [o.set_selected(False) for o in self.objects_to_draw if o.selected]\n",
    "            self.redraw()\n",
    "            return False\n",
    "\n",
    "        check_bool_pos = list(\n",
    "            set([check_region.is_selected(x, y) for check_region in self.objects_to_draw])\n",
    "        )\n",
    "        if self.gui is None:\n",
    "            title = 'None'\n",
    "        else:\n",
    "            title = self.gui.nodes.value\n",
    "            \n",
    "        if len(check_bool_pos) == 1:\n",
    "            if check_bool_pos[0]:\n",
    "                self.canvas_restart()\n",
    "            else:\n",
    "                self.add_node(x, y, self.script.session.nodes[1])\n",
    "#             if not check_bool_pos[0]:\n",
    "#                 self.add_node(x, y, self.script.session.nodes[1])\n",
    "#             else:\n",
    "#                 self.canvas_restart()\n",
    "\n",
    "        if len(check_bool_pos) == 0:\n",
    "            self.add_node(x, y, self.script.session.nodes[1])\n",
    "            \n",
    "        self.redraw()\n",
    "\n",
    "    def handle_mouse_move(self, x, y):\n",
    "        if [o for o in self.objects_to_draw if o.selected]:\n",
    "            with hold_canvas(self._canvas):\n",
    "                [o for o in self.objects_to_draw if o.selected][-1].set_x_y(x, y)\n",
    "                self.canvas_restart()\n",
    "                [o.draw() for o in self.objects_to_draw]\n",
    "                for path in self.connections:\n",
    "                    self.draw_connection(path)\n",
    "                    \n",
    "    def redraw(self):\n",
    "        self.canvas_restart()\n",
    "        with hold_canvas(self._canvas):\n",
    "            self.canvas_restart()\n",
    "            [o.draw() for o in self.objects_to_draw]\n",
    "            for path in self.connections:\n",
    "                self.draw_connection(path)  \n",
    "          \n",
    "    def _read_script(self):\n",
    "        node_gid_dic = {}\n",
    "        nodes = self.script.flow.nodes\n",
    "#         nodes_gui = data['scripts'][i_script]['flow']['nodes']\n",
    "        for i_n, n in enumerate(nodes):\n",
    "            name = n.identifier.split('.')[-1].split('_')[0]\n",
    "            o = self.objects_to_draw[i_n]\n",
    "            x = o.x\n",
    "            y = o.y\n",
    "\n",
    "#             n = nodes_gui[i_n]\n",
    "            gid = n.GLOBAL_ID\n",
    "            node_gid_dic[gid] = i_n  # TODO: check why indices in json-file are shifted by 2\n",
    "\n",
    "            val = ''\n",
    "            if hasattr(n, 'val'):\n",
    "                val = n.val\n",
    "\n",
    "            s = NodeGui(x//0.6, y//0.6, self, title=name, val=val)\n",
    "            s.set_selected(False)\n",
    "\n",
    "        for c in self.script.flow.connections:\n",
    "            c_in = c.inp.node.GLOBAL_ID\n",
    "            c_out = c.out.node.GLOBAL_ID\n",
    "            con = [node_gid_dic[c_out], node_gid_dic[c_in]]\n",
    "            self.connections.append(con)                \n",
    "                    \n",
    "    def add_node(self, x, y, node):\n",
    "        n = self.script.flow.create_node(node)\n",
    "        print ('node: ', n.identifier, n.GLOBAL_ID)\n",
    "        name = n.identifier.split('.')[-1].split('_')[0]\n",
    "        s = NodeGui(x, y, self, title=name)\n",
    "        s.set_selected(False)\n",
    "        self.objects_to_draw.append(s)\n",
    "\n",
    "        self.redraw()     \n",
    "    \n",
    "    def delete_selected(self):\n",
    "        for o in self.objects_to_draw:\n",
    "            if o.selected:\n",
    "                self.objects_to_draw.remove(o)\n",
    "        #TODO: remove connections        \n",
    "        self.redraw()        \n",
    "    "
   ]
  },
  {
   "cell_type": "code",
   "execution_count": 23,
   "id": "f276eacc-c3cc-46b2-92f3-b9256e1c969c",
   "metadata": {
    "tags": []
   },
   "outputs": [],
   "source": [
    "class NodeGui:\n",
    "    def __init__(self, x, y, canvas_widget, selected=False, title='Title', val=None):\n",
    "        self.x = x\n",
    "        self.y = y\n",
    "        self.width, self.height = canvas_widget._node_box_size\n",
    "        self.selected = selected\n",
    "        self.title = title\n",
    "        self.val = val\n",
    "        self.canvas_widget = canvas_widget\n",
    "        self.canvas = canvas_widget._canvas\n",
    "#         self.canvas_widget.objects_to_draw.append(self)\n",
    "#         n_obj = len(self.canvas_widget.objects_to_draw)\n",
    "#         if n_obj > 1:\n",
    "#             self.canvas_widget.connections.append([n_obj-2, n_obj-1])\n",
    "\n",
    "    def set_x_y(self, x_in, y_in):\n",
    "        self.x = x_in\n",
    "        self.y = y_in\n",
    "        \n",
    "    def draw_title(self, title):\n",
    "        self.canvas.fill_style = self.canvas_widget._col_background\n",
    "        self.canvas.font = f'{self.canvas_widget._font_size}px serif'\n",
    "        self.canvas.fill_style = 'white'\n",
    "        x = self.x - (self.width * 0.49)\n",
    "        y = self.y - (self.height * 0.6),\n",
    "        self.canvas.fill_text(title, x, y)\n",
    "        \n",
    "    def draw_value(self, val):\n",
    "        self.canvas.fill_style = self.canvas_widget._col_background\n",
    "        self.canvas.font = f'{self.canvas_widget._font_size}px serif'\n",
    "        x = self.x - (self.width * 0.4)\n",
    "        y = self.y - (self.height * 0.01),\n",
    "        self.canvas.fill_text(val, x, y)        \n",
    "        \n",
    "    def draw_input(self):\n",
    "        self.canvas.fill_style = self.canvas_widget._col_background\n",
    "        x = self.x - (self.width * 0.5)\n",
    "        y = self.y - 0 * (self.height * 0.5)\n",
    "        self.x_in, self.y_in = x, y        \n",
    "        self.canvas.fill_style = 'blue'\n",
    "        self.canvas.fill_arc(x, y, 5, -np.pi/2, np.pi/2)      \n",
    "        \n",
    "    def draw_output(self):\n",
    "        self.canvas.fill_style = self.canvas_widget._col_background\n",
    "        x = self.x + (self.width * 0.5)\n",
    "        y = self.y - 0 * (self.height * 0.5)\n",
    "        self.x_out, self.y_out = x, y\n",
    "        self.canvas.fill_style = 'red'\n",
    "        self.canvas.fill_arc(x, y, 5, np.pi/2, 3 * np.pi/2)        \n",
    "\n",
    "    def draw(self):\n",
    "        self.canvas.fill_style = self.canvas_widget._col_node_header\n",
    "        self.canvas.fill_rect(\n",
    "            self.x - (self.width * 0.5), self.y - (self.height), self.width, self.height\n",
    "        )\n",
    "        if self.selected:\n",
    "            self.canvas.fill_style = self.canvas_widget._col_node_selected\n",
    "        else:\n",
    "            self.canvas.fill_style = self.canvas_widget._col_node_unselected\n",
    "        self.canvas.fill_rect(\n",
    "            self.x - (self.width * 0.5),\n",
    "            self.y - (self.height * 0.5),\n",
    "            self.width,\n",
    "            self.height,\n",
    "        )\n",
    "        self.draw_title(self.title)\n",
    "        if self.val:\n",
    "            self.draw_value(self.val)\n",
    "        self.draw_input()\n",
    "        self.draw_output()\n",
    "        \n",
    "\n",
    "    def is_selected(self, x_in, y_in):\n",
    "        x_coord = self.x - (self.width * 0.5)\n",
    "        y_coord = self.y - (self.height * 0.5)\n",
    "\n",
    "        if (\n",
    "            x_in > x_coord\n",
    "            and x_in < (x_coord + self.width)\n",
    "            and y_in > y_coord\n",
    "            and y_in < (y_coord + self.height)\n",
    "        ):\n",
    "\n",
    "            self.set_selected(True)\n",
    "            return True\n",
    "        else:\n",
    "            self.set_selected(False)\n",
    "            return False\n",
    "\n",
    "    def set_selected(self, state):\n",
    "        self.selected = state"
   ]
  },
  {
   "cell_type": "code",
   "execution_count": 24,
   "id": "c43dd208-a57d-4c07-a84c-c6b36588f6a9",
   "metadata": {},
   "outputs": [
    {
     "ename": "NameError",
     "evalue": "name 'cw' is not defined",
     "output_type": "error",
     "traceback": [
      "\u001b[0;31m---------------------------------------------------------------------------\u001b[0m",
      "\u001b[0;31mNameError\u001b[0m                                 Traceback (most recent call last)",
      "Input \u001b[0;32mIn [24]\u001b[0m, in \u001b[0;36m<cell line: 1>\u001b[0;34m()\u001b[0m\n\u001b[0;32m----> 1\u001b[0m ng \u001b[38;5;241m=\u001b[39m NodeGui(\u001b[38;5;241m1\u001b[39m, \u001b[38;5;241m1\u001b[39m, \u001b[43mcw\u001b[49m)\n",
      "\u001b[0;31mNameError\u001b[0m: name 'cw' is not defined"
     ]
    }
   ],
   "source": [
    "ng = NodeGui(1, 1, cw)"
   ]
  },
  {
   "cell_type": "code",
   "execution_count": 25,
   "id": "969b9215-744d-4f2c-bd2d-b751296827fd",
   "metadata": {},
   "outputs": [
    {
     "name": "stdout",
     "output_type": "stream",
     "text": [
      "Object `ng.draw_value` not found.\n"
     ]
    }
   ],
   "source": [
    "ng.draw_value??"
   ]
  },
  {
   "cell_type": "code",
   "execution_count": 26,
   "id": "85b9a1bb-d9e7-4d81-98d0-4b2852219b9e",
   "metadata": {},
   "outputs": [
    {
     "data": {
      "text/plain": [
       "<ryvencore.Script.Script at 0x7f0c101c20e0>"
      ]
     },
     "execution_count": 26,
     "metadata": {},
     "output_type": "execute_result"
    }
   ],
   "source": [
    "session = rc.Session()\n",
    "for package in packages:\n",
    "    session.register_nodes(\n",
    "        import_nodes_package(\n",
    "            NodesPackage(\n",
    "                directory=package \n",
    "            )\n",
    "        )\n",
    "    )\n",
    "    \n",
    "session.create_script(title='test')    "
   ]
  },
  {
   "cell_type": "code",
   "execution_count": 27,
   "id": "a01d3125-9da8-49a1-ba97-6a1cf468abfa",
   "metadata": {},
   "outputs": [],
   "source": [
    "onto_dic = {}\n",
    "onto_dic['Utilities'] = {'Murnaghan':[]}\n",
    "onto_dic['Codes'] = {'Vasp':[], 'Lammps':[]}\n",
    "onto_dic['Structures'] = {'Bulk':[], 'Surfaces':[]}\n",
    "\n",
    "gui_modes = ['Add Node', 'Delete Node', 'Add Connection', 'None']\n",
    "\n",
    "class GUI:\n",
    "    def __init__(self, onto_dic=onto_dic):\n",
    "        session = rc.Session()\n",
    "        for package in packages:\n",
    "            session.register_nodes(\n",
    "                import_nodes_package(\n",
    "                    NodesPackage(\n",
    "                        directory=package \n",
    "                    )\n",
    "                )\n",
    "            )\n",
    "    \n",
    "        script = session.create_script(title='test') \n",
    "        \n",
    "        self.canvas_widget = canvas_widget(self, script=script)\n",
    "        self.onto_dic = onto_dic\n",
    "        \n",
    "    def draw(self):    \n",
    "            out = widgets.Output(layout={'border': '1px solid black'})\n",
    "            with out:\n",
    "                display(self.canvas_widget._canvas)\n",
    "\n",
    "            self.modules = widgets.Dropdown(\n",
    "                options=self.onto_dic.keys(),\n",
    "                value='Codes',\n",
    "            #     description='Category:',\n",
    "                disabled=False,\n",
    "                layout=widgets.Layout(width='100px')\n",
    "            )\n",
    "\n",
    "            self.mode = widgets.Dropdown(\n",
    "                options=gui_modes,\n",
    "                value=gui_modes[0],\n",
    "            #     description='Category:',\n",
    "                disabled=False,\n",
    "                layout=widgets.Layout(width='100px')\n",
    "            )        \n",
    "\n",
    "            self.nodes = widgets.RadioButtons(\n",
    "                options=self.onto_dic[self.modules.value].keys(),\n",
    "            #    value='pineapple', # Defaults to 'pineapple'\n",
    "            #    layout={'width': 'max-content'}, # If the items' names are long\n",
    "            #     description='Nodes:',\n",
    "                disabled=False\n",
    "            )\n",
    "\n",
    "    #         run_button = widgets.Button(description=\"Run\")\n",
    "    #         add_node_button = widgets.Button(description=\"Add Node\")\n",
    "    #         add_connection_button = widgets.Button(description=\"Add Connection\")\n",
    "\n",
    "            self.modules.observe(self.on_value_change, names='value')\n",
    "\n",
    "            return widgets.VBox([\n",
    "                          widgets.HBox([self.mode]), \n",
    "                          widgets.HBox([\n",
    "                              widgets.VBox([self.modules, self.nodes]), \n",
    "                              out])\n",
    "                           ])     \n",
    "\n",
    "\n",
    "    def on_value_change(self, change):\n",
    "        self.nodes.options = onto_dic[self.modules.value].keys()"
   ]
  },
  {
   "cell_type": "code",
   "execution_count": 28,
   "id": "7509540a-425f-4818-bba9-dfad2f43190b",
   "metadata": {},
   "outputs": [
    {
     "data": {
      "application/vnd.jupyter.widget-view+json": {
       "model_id": "842eb539823445cba4b90ed338ff5840",
       "version_major": 2,
       "version_minor": 0
      },
      "text/plain": [
       "VBox(children=(HBox(children=(Dropdown(layout=Layout(width='100px'), options=('Add Node', 'Delete Node', 'Add …"
      ]
     },
     "metadata": {},
     "output_type": "display_data"
    }
   ],
   "source": [
    "gui = GUI()\n",
    "gui.draw()"
   ]
  },
  {
   "cell_type": "code",
   "execution_count": null,
   "id": "77d6a8ed-fcd4-40bd-89e6-fa839eea2927",
   "metadata": {},
   "outputs": [],
   "source": []
  },
  {
   "cell_type": "code",
   "execution_count": 27,
   "id": "f367c8aa-3de8-408e-a241-e499dd5c510a",
   "metadata": {},
   "outputs": [
    {
     "data": {
      "application/vnd.jupyter.widget-view+json": {
       "model_id": "783d8776975c4c59a76fe8c950b12a5c",
       "version_major": 2,
       "version_minor": 0
      },
      "text/plain": [
       "Canvas(height=1000, layout=Layout(height='auto', width='100%'), width=2000)"
      ]
     },
     "metadata": {},
     "output_type": "display_data"
    }
   ],
   "source": [
    "cw = canvas_widget(script=session.scripts[0])\n",
    "cw._canvas"
   ]
  },
  {
   "cell_type": "code",
   "execution_count": null,
   "id": "b4510a5f-d448-4eaa-a5ac-652d1d24a897",
   "metadata": {},
   "outputs": [],
   "source": [
    "cw._read_script()\n",
    "cw.redraw()"
   ]
  },
  {
   "cell_type": "code",
   "execution_count": null,
   "id": "19a9400d-52ad-4cd4-8736-d4073477c9f3",
   "metadata": {},
   "outputs": [],
   "source": [
    "%%time\n",
    "i_script = 0\n",
    "\n",
    "node_gid_dic = {}\n",
    "nodes = session.scripts[i_script].flow.nodes\n",
    "nodes_gui = data['scripts'][i_script]['flow']['nodes']\n",
    "for i_n, n in enumerate(nodes_gui):\n",
    "    name = n['identifier'].split('.')[-1].split('_')[0]\n",
    "    x = n['pos x']\n",
    "    y = n['pos y']\n",
    "\n",
    "    n = nodes[i_n]\n",
    "    gid = n.GLOBAL_ID\n",
    "    node_gid_dic[gid] = i_n  # TODO: check why indices in json-file are shifted by 2\n",
    "\n",
    "    val = ''\n",
    "    if hasattr(n, 'val'):\n",
    "        val = n.val\n",
    "        \n",
    "    s = NodeGui(x//0.6, y//0.6, cw, title=name, val=val)\n",
    "    s.set_selected(False)\n",
    "    \n",
    "for c in script0.flow.connections:\n",
    "    c_in = c.inp.node.GLOBAL_ID\n",
    "    c_out = c.out.node.GLOBAL_ID\n",
    "    con = [node_gid_dic[c_out], node_gid_dic[c_in]]\n",
    "    cw.connections.append(con)\n",
    "\n",
    "cw.redraw()"
   ]
  },
  {
   "cell_type": "code",
   "execution_count": 29,
   "id": "0f20cce8-f1b0-49b2-86df-04a091caf3c0",
   "metadata": {},
   "outputs": [],
   "source": [
    "n = session.nodes[0]"
   ]
  },
  {
   "cell_type": "code",
   "execution_count": null,
   "id": "179df95a-4391-464b-8835-8e36a951e7cc",
   "metadata": {},
   "outputs": [],
   "source": [
    "cw.script.session.nodes[10].identifier.split('.')[-1]"
   ]
  },
  {
   "cell_type": "code",
   "execution_count": 30,
   "id": "578e3c33-f684-4c97-af95-87b31f058c63",
   "metadata": {},
   "outputs": [
    {
     "name": "stdout",
     "output_type": "stream",
     "text": [
      "node:  std.std.std.Checkpoint_Node 97\n"
     ]
    },
    {
     "ename": "NameError",
     "evalue": "name 'NodeGui' is not defined",
     "output_type": "error",
     "traceback": [
      "\u001b[0;31m---------------------------------------------------------------------------\u001b[0m",
      "\u001b[0;31mNameError\u001b[0m                                 Traceback (most recent call last)",
      "\u001b[0;32m/tmp/ipykernel_1011/2019832855.py\u001b[0m in \u001b[0;36m<module>\u001b[0;34m\u001b[0m\n\u001b[0;32m----> 1\u001b[0;31m \u001b[0mcw\u001b[0m\u001b[0;34m.\u001b[0m\u001b[0madd_node\u001b[0m\u001b[0;34m(\u001b[0m\u001b[0;36m300\u001b[0m\u001b[0;34m,\u001b[0m \u001b[0;36m400\u001b[0m\u001b[0;34m,\u001b[0m \u001b[0mn\u001b[0m\u001b[0;34m)\u001b[0m\u001b[0;34m\u001b[0m\u001b[0;34m\u001b[0m\u001b[0m\n\u001b[0m",
      "\u001b[0;32m/tmp/ipykernel_1011/1019854369.py\u001b[0m in \u001b[0;36madd_node\u001b[0;34m(self, x, y, node)\u001b[0m\n\u001b[1;32m    119\u001b[0m         \u001b[0mprint\u001b[0m \u001b[0;34m(\u001b[0m\u001b[0;34m'node: '\u001b[0m\u001b[0;34m,\u001b[0m \u001b[0mn\u001b[0m\u001b[0;34m.\u001b[0m\u001b[0midentifier\u001b[0m\u001b[0;34m,\u001b[0m \u001b[0mn\u001b[0m\u001b[0;34m.\u001b[0m\u001b[0mGLOBAL_ID\u001b[0m\u001b[0;34m)\u001b[0m\u001b[0;34m\u001b[0m\u001b[0;34m\u001b[0m\u001b[0m\n\u001b[1;32m    120\u001b[0m         \u001b[0mname\u001b[0m \u001b[0;34m=\u001b[0m \u001b[0mn\u001b[0m\u001b[0;34m.\u001b[0m\u001b[0midentifier\u001b[0m\u001b[0;34m.\u001b[0m\u001b[0msplit\u001b[0m\u001b[0;34m(\u001b[0m\u001b[0;34m'.'\u001b[0m\u001b[0;34m)\u001b[0m\u001b[0;34m[\u001b[0m\u001b[0;34m-\u001b[0m\u001b[0;36m1\u001b[0m\u001b[0;34m]\u001b[0m\u001b[0;34m.\u001b[0m\u001b[0msplit\u001b[0m\u001b[0;34m(\u001b[0m\u001b[0;34m'_'\u001b[0m\u001b[0;34m)\u001b[0m\u001b[0;34m[\u001b[0m\u001b[0;36m0\u001b[0m\u001b[0;34m]\u001b[0m\u001b[0;34m\u001b[0m\u001b[0;34m\u001b[0m\u001b[0m\n\u001b[0;32m--> 121\u001b[0;31m         \u001b[0ms\u001b[0m \u001b[0;34m=\u001b[0m \u001b[0mNodeGui\u001b[0m\u001b[0;34m(\u001b[0m\u001b[0mx\u001b[0m\u001b[0;34m,\u001b[0m \u001b[0my\u001b[0m\u001b[0;34m,\u001b[0m \u001b[0mself\u001b[0m\u001b[0;34m,\u001b[0m \u001b[0mtitle\u001b[0m\u001b[0;34m=\u001b[0m\u001b[0mname\u001b[0m\u001b[0;34m)\u001b[0m\u001b[0;34m\u001b[0m\u001b[0;34m\u001b[0m\u001b[0m\n\u001b[0m\u001b[1;32m    122\u001b[0m         \u001b[0ms\u001b[0m\u001b[0;34m.\u001b[0m\u001b[0mset_selected\u001b[0m\u001b[0;34m(\u001b[0m\u001b[0;32mFalse\u001b[0m\u001b[0;34m)\u001b[0m\u001b[0;34m\u001b[0m\u001b[0;34m\u001b[0m\u001b[0m\n\u001b[1;32m    123\u001b[0m         \u001b[0mself\u001b[0m\u001b[0;34m.\u001b[0m\u001b[0mobjects_to_draw\u001b[0m\u001b[0;34m.\u001b[0m\u001b[0mappend\u001b[0m\u001b[0;34m(\u001b[0m\u001b[0ms\u001b[0m\u001b[0;34m)\u001b[0m\u001b[0;34m\u001b[0m\u001b[0;34m\u001b[0m\u001b[0m\n",
      "\u001b[0;31mNameError\u001b[0m: name 'NodeGui' is not defined"
     ]
    }
   ],
   "source": [
    "cw.add_node(300, 400, n)"
   ]
  },
  {
   "cell_type": "code",
   "execution_count": null,
   "id": "7781396f-937f-481e-a6e3-bd4147f82a62",
   "metadata": {},
   "outputs": [],
   "source": [
    "cw.handle_mouse_down(1,1)"
   ]
  },
  {
   "cell_type": "code",
   "execution_count": null,
   "id": "2ebc1f7e-8bac-434d-8c15-4ef6e934ba00",
   "metadata": {},
   "outputs": [],
   "source": [
    "cw.script.flow.nodes  #[0].GLOBAL_ID"
   ]
  },
  {
   "cell_type": "code",
   "execution_count": null,
   "id": "79d07724-332e-4fd1-8dbc-27ced944227c",
   "metadata": {},
   "outputs": [],
   "source": [
    "n3.set_state({'val': 6}, 0)\n",
    "n3.update_event()\n",
    "cw.redraw()"
   ]
  },
  {
   "cell_type": "code",
   "execution_count": null,
   "id": "8958c68d-2440-4059-a2ed-032d591a5a0d",
   "metadata": {},
   "outputs": [],
   "source": [
    "script0.flow.a"
   ]
  },
  {
   "cell_type": "code",
   "execution_count": 29,
   "id": "a4cd5ad1-cab5-4cd6-93cf-893928b2442e",
   "metadata": {},
   "outputs": [
    {
     "name": "stdout",
     "output_type": "stream",
     "text": [
      "built_in.Result_Node 13 3134\n",
      "std.std.std.Slider_Node 15 0.533\n",
      "built_in.Result_Node 19 1.066\n"
     ]
    }
   ],
   "source": [
    "for n in script0.flow.nodes:\n",
    "    if hasattr(n, 'val'):\n",
    "        print (n.identifier, n.GLOBAL_ID, n.val)"
   ]
  },
  {
   "cell_type": "code",
   "execution_count": 30,
   "id": "3722b088-f4d1-4acf-9906-d84a0085d015",
   "metadata": {},
   "outputs": [
    {
     "data": {
      "text/plain": [
       "2"
      ]
     },
     "execution_count": 30,
     "metadata": {},
     "output_type": "execute_result"
    }
   ],
   "source": [
    "n3 = script0.flow.nodes[3]\n",
    "n3.input(0)\n",
    "# n3.update_event()\n",
    "# n3.set_output_val(0,3)"
   ]
  },
  {
   "cell_type": "code",
   "execution_count": 35,
   "id": "bb8eaa98-af16-4d13-927a-e3f797e9464b",
   "metadata": {},
   "outputs": [
    {
     "data": {
      "text/plain": [
       "<special_nodes.Slider_Node at 0x7f0c38161ae0>"
      ]
     },
     "execution_count": 35,
     "metadata": {},
     "output_type": "execute_result"
    }
   ],
   "source": [
    "n3.inputs[0].node"
   ]
  },
  {
   "cell_type": "code",
   "execution_count": null,
   "id": "d28db95d-330c-4c59-ba5d-2eb570beb1a1",
   "metadata": {},
   "outputs": [],
   "source": [
    "n2 = script0.flow.nodes[2]\n",
    "n2.actions"
   ]
  },
  {
   "cell_type": "code",
   "execution_count": null,
   "id": "b560431c-73ea-4618-ad54-dc33326ab444",
   "metadata": {},
   "outputs": [],
   "source": [
    "n7 = script0.flow.nodes[7]"
   ]
  },
  {
   "cell_type": "code",
   "execution_count": null,
   "id": "28a75a0c-4f87-4552-916b-b9a2ec8ba416",
   "metadata": {},
   "outputs": [],
   "source": [
    "n7.actions"
   ]
  },
  {
   "cell_type": "code",
   "execution_count": null,
   "id": "ae7cdb77-84de-4ffa-909d-ef122ab3e815",
   "metadata": {},
   "outputs": [],
   "source": [
    "n7.start()"
   ]
  },
  {
   "cell_type": "code",
   "execution_count": null,
   "id": "2bf62bd2-4d4b-414c-97f2-99e227e1ece7",
   "metadata": {},
   "outputs": [],
   "source": [
    "n7.stop()"
   ]
  },
  {
   "cell_type": "code",
   "execution_count": null,
   "id": "09e8c167-762e-42e4-8d32-027fbf0b6e30",
   "metadata": {},
   "outputs": [],
   "source": []
  },
  {
   "cell_type": "code",
   "execution_count": null,
   "id": "146d76ab-e383-43cd-836a-c1c2f05270e3",
   "metadata": {},
   "outputs": [],
   "source": [
    "o7 = n7.outputs[0]\n",
    "o7.get_val()"
   ]
  },
  {
   "cell_type": "code",
   "execution_count": null,
   "id": "9b91a21b-e904-4904-bc57-e5c3f98f0c25",
   "metadata": {},
   "outputs": [],
   "source": [
    "n3.outputs[0].get_val()"
   ]
  },
  {
   "cell_type": "code",
   "execution_count": null,
   "id": "669a8e62-dac6-4b75-a537-bd4599d5bf53",
   "metadata": {},
   "outputs": [],
   "source": [
    "i3 = n3.inputs[0]\n",
    "i3.val = 1"
   ]
  },
  {
   "cell_type": "code",
   "execution_count": null,
   "id": "45e80ff3-9495-4ae6-9dd7-76b28a5496c6",
   "metadata": {},
   "outputs": [],
   "source": [
    "n3.actions"
   ]
  },
  {
   "cell_type": "code",
   "execution_count": null,
   "id": "c83ce7d5-2152-4aae-be9d-53a53d111ea5",
   "metadata": {},
   "outputs": [],
   "source": [
    "n3.set_output_val(0, 19)\n",
    "n3.update_event()"
   ]
  },
  {
   "cell_type": "code",
   "execution_count": null,
   "id": "d502511e-35b6-407c-bda7-f9942b21012f",
   "metadata": {},
   "outputs": [],
   "source": [
    "n2.input(0)"
   ]
  },
  {
   "cell_type": "code",
   "execution_count": null,
   "id": "7c6f0fe6-0bd7-4ecc-bbff-fcb161173a87",
   "metadata": {},
   "outputs": [],
   "source": [
    "n3.inputs[0].val = 2\n",
    "n3.set_state({'val': 8}, 0)\n",
    "n3.update_event()\n",
    "n3.outputs[0].val, script0.flow.nodes[4].val"
   ]
  },
  {
   "cell_type": "code",
   "execution_count": null,
   "id": "2fbf1414-4633-4e5c-97d3-20d648054099",
   "metadata": {},
   "outputs": [],
   "source": [
    "script0.flow.nodes[4].val"
   ]
  },
  {
   "cell_type": "code",
   "execution_count": null,
   "id": "ceaf79ba-f9ed-4f8f-8886-e8503314446d",
   "metadata": {},
   "outputs": [],
   "source": [
    "n7.outputs[0].connected()"
   ]
  },
  {
   "cell_type": "code",
   "execution_count": null,
   "id": "51e87e92-5b99-4aef-9cfd-e327a1c90104",
   "metadata": {},
   "outputs": [],
   "source": [
    "# o3.connections[0].out.val, o3.connections[0].inp.val"
   ]
  },
  {
   "cell_type": "code",
   "execution_count": null,
   "id": "68cf9777-44f8-46da-a3a6-f64c9006f17f",
   "metadata": {},
   "outputs": [],
   "source": [
    "# o3.connections[0].inp.node"
   ]
  },
  {
   "cell_type": "code",
   "execution_count": null,
   "id": "fb77f06e-20b8-4664-b9d7-dd4d57029a3a",
   "metadata": {},
   "outputs": [],
   "source": [
    "script0.flow.nodes[2]"
   ]
  },
  {
   "cell_type": "code",
   "execution_count": null,
   "id": "5d45a88c-8ed5-4356-b923-10e1c7497ec1",
   "metadata": {},
   "outputs": [],
   "source": [
    "script0.flow.nodes[3].GLOBAL_ID, script0.flow.nodes[4].GLOBAL_ID"
   ]
  },
  {
   "cell_type": "code",
   "execution_count": null,
   "id": "0fa44061-2962-473b-a18e-7d21dfbd5890",
   "metadata": {},
   "outputs": [],
   "source": [
    "script0.flow.nodes[3].outputs[0].connections[0].inp.node.GLOBAL_ID"
   ]
  },
  {
   "cell_type": "code",
   "execution_count": null,
   "id": "ec63ed0d-f9f5-4bb0-bf72-e2da79e3dd96",
   "metadata": {},
   "outputs": [],
   "source": [
    "script0.flow.nodes[4].val"
   ]
  },
  {
   "cell_type": "code",
   "execution_count": null,
   "id": "b05e09b0-d038-4a02-84d5-35acf52a67c4",
   "metadata": {},
   "outputs": [],
   "source": [
    "script0.flow.nodes[3].outputs[0].connections[0].inp.node"
   ]
  },
  {
   "cell_type": "code",
   "execution_count": null,
   "id": "7be147c2-2e80-49d1-bce8-97e9f39467b0",
   "metadata": {},
   "outputs": [],
   "source": [
    "for o in cw.objects_to_draw:\n",
    "    if o.selected:\n",
    "        cw.objects_to_draw.remove(o)"
   ]
  },
  {
   "cell_type": "code",
   "execution_count": null,
   "id": "9aa3e566-e6f6-48fe-9c83-dffa2bf7ebd0",
   "metadata": {},
   "outputs": [],
   "source": [
    "cw.delete_selected()"
   ]
  },
  {
   "cell_type": "code",
   "execution_count": null,
   "id": "bf12b29b-1f29-4f88-812e-9ce5de7ed8a5",
   "metadata": {},
   "outputs": [],
   "source": [
    "o.selected = True\n",
    "cw.redraw()"
   ]
  },
  {
   "cell_type": "code",
   "execution_count": null,
   "id": "359a3147-ed20-464e-b7e8-e4c9c7146a17",
   "metadata": {},
   "outputs": [],
   "source": [
    "n = nodes[0]\n"
   ]
  },
  {
   "cell_type": "code",
   "execution_count": null,
   "id": "39208287-ca62-4072-8a02-ff616903f4aa",
   "metadata": {},
   "outputs": [],
   "source": [
    "session.all_node_objects()"
   ]
  },
  {
   "cell_type": "code",
   "execution_count": null,
   "id": "d48f0032-7d8d-4f06-9dfb-694b8df70b42",
   "metadata": {},
   "outputs": [],
   "source": [
    "script0.flow.add_node(session.all_node_objects()[1])"
   ]
  },
  {
   "cell_type": "code",
   "execution_count": null,
   "id": "8c96ff9e-1c7d-4cf3-b616-30d76abe9198",
   "metadata": {},
   "outputs": [],
   "source": [
    "script0.flow."
   ]
  },
  {
   "cell_type": "code",
   "execution_count": null,
   "id": "e3efebc1-b0ad-49ca-a52d-0659a58a8652",
   "metadata": {},
   "outputs": [],
   "source": [
    "script0.flow.remove_node(script0.flow.nodes[-1])"
   ]
  },
  {
   "cell_type": "code",
   "execution_count": null,
   "id": "093a33cf-0047-41b2-b0d7-86533299663e",
   "metadata": {},
   "outputs": [],
   "source": [
    "script0.flow.create_nodes_from_data??"
   ]
  },
  {
   "cell_type": "code",
   "execution_count": null,
   "id": "ac78553e-1d6e-4c6c-a858-dd3f4f03cdda",
   "metadata": {},
   "outputs": [],
   "source": [
    "from ryvencore.utils import node_from_identifier"
   ]
  },
  {
   "cell_type": "code",
   "execution_count": null,
   "id": "a96e425d-d8f0-48de-a20f-8249e8308e33",
   "metadata": {},
   "outputs": [],
   "source": [
    "# script0.flow.create_node()"
   ]
  },
  {
   "cell_type": "code",
   "execution_count": null,
   "id": "3450b6ac-f6df-41fd-a26c-a825ed557c69",
   "metadata": {},
   "outputs": [],
   "source": [
    "node_from_identifier('std.Button_Node', session.nodes)"
   ]
  },
  {
   "cell_type": "code",
   "execution_count": null,
   "id": "eeb84ab8-9cd1-45a9-8db1-f6698f49f74a",
   "metadata": {},
   "outputs": [],
   "source": [
    "n3 = script0.flow.nodes[3]\n",
    "n3.identifier, n3.GLOBAL_ID, "
   ]
  },
  {
   "cell_type": "code",
   "execution_count": null,
   "id": "e142ebf8-c60e-4ad4-9bd1-926e25938237",
   "metadata": {},
   "outputs": [],
   "source": [
    "session.register_node??"
   ]
  },
  {
   "cell_type": "code",
   "execution_count": null,
   "id": "97fb1050-81ad-4d0b-9d85-4dcbe6aedf8e",
   "metadata": {},
   "outputs": [],
   "source": [
    "aa = session.nodes[1]\n",
    "aa.identifier"
   ]
  },
  {
   "cell_type": "code",
   "execution_count": null,
   "id": "1e098fbb-243b-4e88-b5cc-b4891131d41f",
   "metadata": {},
   "outputs": [],
   "source": [
    "session.nodes"
   ]
  },
  {
   "cell_type": "code",
   "execution_count": null,
   "id": "3aba4709-8b0c-4b3b-a700-97cdee7366f6",
   "metadata": {},
   "outputs": [],
   "source": [
    "script0.session.nodes"
   ]
  },
  {
   "cell_type": "code",
   "execution_count": null,
   "id": "c09ded78-c702-46d3-b8c5-11564ea5797e",
   "metadata": {},
   "outputs": [],
   "source": []
  }
 ],
 "metadata": {
  "kernelspec": {
   "display_name": "Python 3 (ipykernel)",
   "language": "python",
   "name": "python3"
  },
  "language_info": {
   "codemirror_mode": {
    "name": "ipython",
    "version": 3
   },
   "file_extension": ".py",
   "mimetype": "text/x-python",
   "name": "python",
   "nbconvert_exporter": "python",
   "pygments_lexer": "ipython3",
   "version": "3.9.12"
  }
 },
 "nbformat": 4,
 "nbformat_minor": 5
}
